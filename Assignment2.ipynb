{
  "nbformat": 4,
  "nbformat_minor": 0,
  "metadata": {
    "accelerator": "GPU",
    "colab": {
      "name": "Assignment2.ipynb",
      "provenance": [],
      "collapsed_sections": [],
      "include_colab_link": true
    },
    "kernelspec": {
      "display_name": "Python 3",
      "language": "python",
      "name": "python3"
    },
    "language_info": {
      "codemirror_mode": {
        "name": "ipython",
        "version": 3
      },
      "file_extension": ".py",
      "mimetype": "text/x-python",
      "name": "python",
      "nbconvert_exporter": "python",
      "pygments_lexer": "ipython3",
      "version": "3.8.5"
    }
  },
  "cells": [
    {
      "cell_type": "markdown",
      "metadata": {
        "id": "view-in-github",
        "colab_type": "text"
      },
      "source": [
        "<a href=\"https://colab.research.google.com/github/DHarrington11/assignment3/blob/main/Assignment2.ipynb\" target=\"_parent\"><img src=\"https://colab.research.google.com/assets/colab-badge.svg\" alt=\"Open In Colab\"/></a>"
      ]
    },
    {
      "cell_type": "markdown",
      "metadata": {
        "id": "XLMRPLVCFwEc"
      },
      "source": [
        "## Learning CNNs using Fashion-MNIST\n",
        "\n",
        "This assignment will bulld CNNS using the Fashion-MINST dataset. In particular, we will\n",
        "*   Use MNIST Fashion to study CNN architectures and parameters.\n",
        "\n",
        "Read more about the Fashion-MINST dataset in this paper [here](https://arxiv.org/abs/1708.07747) (**Fashion-MNIST: a Novel Image Dataset for Benchmarking Machine Learning Algorithms**)\n",
        "\n"
      ]
    },
    {
      "cell_type": "markdown",
      "metadata": {
        "id": "Ixyte299ZZgk"
      },
      "source": [
        "## Assignment Overview\n",
        "\n",
        "\n",
        "This assignment focuses on how to classify **fashion_mnist** data with a simple **Convolutional Neural Network** in Keras. \n",
        "Keras is part of the core TensorFlow library, in addition to being an independent open source project. \n",
        "\n",
        "The [fashion_mnist](https://github.com/zalandoresearch/fashion-mnist) dataset consists of \n",
        "60,000 train and 10,000 test instances. The aim is to classify an image into one of 10 categories. The possible categories/labals are:\n",
        "\n",
        "<br> **Label**\t**Description**\n",
        "<br> 0 T-shirt/top\n",
        "<br> 1 Trouser\n",
        "<br> 2 Pullover\n",
        "<br> 3 Dress\n",
        "<br> 4 Coat\n",
        "<br> 5 Sandal\n",
        "<br> 6 Shirt\n",
        "<br> 7 Sneaker\n",
        "<br> 8 Bag\n",
        "<br> 9 Ankle boot\n",
        "\n",
        "Each gray-scale input is a 28x28 low-resolution image."
      ]
    },
    {
      "cell_type": "markdown",
      "metadata": {
        "colab_type": "toc",
        "id": "1jQGPl2l7kF7"
      },
      "source": [
        ">>[Learning CNNs using Fashion-MNIST](#scrollTo=XLMRPLVCFwEc)\n",
        "\n",
        ">>[Notebook Overview](#scrollTo=Ixyte299ZZgk)\n",
        "\n",
        ">>[Download the fashion_mnist data](#scrollTo=LbCigZtNZZgl)\n",
        "\n",
        ">>[Visualize the data](#scrollTo=tWORMSC8FDR4)\n",
        "\n",
        ">>[Data normalization](#scrollTo=Zx-Ee6LHZZgt)\n",
        "\n",
        ">>[Split the data into train/validation/test data sets](#scrollTo=CFlNHktHBtru)\n",
        "\n",
        ">>[Create the basic model architecture](#scrollTo=HhalcO03ZZg3)\n",
        "\n",
        ">>[Compile the model](#scrollTo=FhxJ5dinZZg8)\n",
        "\n",
        ">>[Train the model](#scrollTo=DtOvh3YVZZg_)\n",
        "\n",
        ">>[Load Model with the best validation accuracy](#scrollTo=e-MGLwZQy05d)\n",
        "\n",
        ">>[Test Accuracy](#scrollTo=9RTRkan4yq5H)\n",
        "\n",
        ">>[Visualize prediction](#scrollTo=oJv7XEk10bOv)\n",
        "\n",
        ">>[Congragulations!](#scrollTo=8AehWdRAVKN5)\n",
        "\n"
      ]
    },
    {
      "cell_type": "markdown",
      "metadata": {
        "id": "LbCigZtNZZgl"
      },
      "source": [
        "## Download the fashion_mnist data\n",
        "First let's install TensorFlow version 1.8.0 and import Tensorflow. Then we download fashion-mnist which is one of the Keras datasets. "
      ]
    },
    {
      "cell_type": "code",
      "metadata": {
        "colab": {
          "base_uri": "https://localhost:8080/"
        },
        "id": "d44TznbgZZgm",
        "outputId": "43795539-79ef-4133-ac9c-3d6c418d2914"
      },
      "source": [
        "!pip install -q -U tensorflow>=1.8.0\n",
        "import tensorflow as tf\n",
        "\n",
        "import numpy as np\n",
        "import matplotlib.pyplot as plt\n",
        "\n",
        "# Load the fashion-mnist pre-shuffled train data and test data\n",
        "(x_train, y_train), (x_test, y_test) = tf.keras.datasets.fashion_mnist.load_data()\n",
        "\n",
        "print(\"x_train shape:\", x_train.shape, \"y_train shape:\", y_train.shape)"
      ],
      "execution_count": 20,
      "outputs": [
        {
          "output_type": "stream",
          "name": "stdout",
          "text": [
            "x_train shape: (60000, 28, 28) y_train shape: (60000,)\n"
          ]
        }
      ]
    },
    {
      "cell_type": "markdown",
      "metadata": {
        "id": "tWORMSC8FDR4"
      },
      "source": [
        "## Visualize the data"
      ]
    },
    {
      "cell_type": "code",
      "metadata": {
        "colab": {
          "base_uri": "https://localhost:8080/",
          "height": 352
        },
        "id": "aFe4wHGRFKle",
        "outputId": "fc1692d6-1ee4-4781-f699-d01e8cfe892a"
      },
      "source": [
        "# Print training set shape - note there are 60,000 training data of image size of 28x28, 60,000 train labels)\n",
        "print(\"x_train shape:\", x_train.shape, \"y_train shape:\", y_train.shape)\n",
        "\n",
        "# Print the number of training and test datasets\n",
        "print(x_train.shape[0], 'train set')\n",
        "print(x_test.shape[0], 'test set')\n",
        "\n",
        "# Define the text labels\n",
        "fashion_mnist_labels = [\"T-shirt/top\",  # index 0\n",
        "                        \"Trouser\",      # index 1\n",
        "                        \"Pullover\",     # index 2 \n",
        "                        \"Dress\",        # index 3 \n",
        "                        \"Coat\",         # index 4\n",
        "                        \"Sandal\",       # index 5\n",
        "                        \"Shirt\",        # index 6 \n",
        "                        \"Sneaker\",      # index 7 \n",
        "                        \"Bag\",          # index 8 \n",
        "                        \"Ankle boot\"]   # index 9\n",
        "\n",
        "# Image index, you can pick any number between 0 and 59,999\n",
        "img_index = 5\n",
        "# y_train contains the lables, ranging from 0 to 9\n",
        "label_index = y_train[img_index]\n",
        "# Print the label, for example 2 Pullover\n",
        "print (\"y = \" + str(label_index) + \" \" +(fashion_mnist_labels[label_index]))\n",
        "# # Show one of the images from the training dataset\n",
        "plt.imshow(x_train[img_index])"
      ],
      "execution_count": null,
      "outputs": [
        {
          "output_type": "stream",
          "name": "stdout",
          "text": [
            "x_train shape: (60000, 28, 28) y_train shape: (60000,)\n",
            "60000 train set\n",
            "10000 test set\n",
            "y = 2 Pullover\n"
          ]
        },
        {
          "output_type": "execute_result",
          "data": {
            "text/plain": [
              "<matplotlib.image.AxesImage at 0x7fe5648037d0>"
            ]
          },
          "metadata": {},
          "execution_count": 2
        },
        {
          "output_type": "display_data",
          "data": {
            "image/png": "[encoded data removed]",
            "text/plain": [
              "<Figure size 432x288 with 1 Axes>"
            ]
          },
          "metadata": {
            "needs_background": "light"
          }
        }
      ]
    },
    {
      "cell_type": "markdown",
      "metadata": {
        "id": "Zx-Ee6LHZZgt"
      },
      "source": [
        "## Data normalization\n",
        "Normalize the data dimensions so that they are of approximately the same scale."
      ]
    },
    {
      "cell_type": "code",
      "metadata": {
        "id": "XNh5NIckZZgu"
      },
      "source": [
        "x_train = x_train.astype('float32') / 255\n",
        "x_test = x_test.astype('float32') / 255"
      ],
      "execution_count": null,
      "outputs": []
    },
    {
      "cell_type": "code",
      "metadata": {
        "colab": {
          "base_uri": "https://localhost:8080/"
        },
        "id": "LMSg53fiZZgx",
        "outputId": "ec1890de-589f-4e46-9d12-531e2b2712e9"
      },
      "source": [
        "print(\"Number of train data - \" + str(len(x_train)))\n",
        "print(\"Number of test data - \" + str(len(x_test)))"
      ],
      "execution_count": null,
      "outputs": [
        {
          "output_type": "stream",
          "name": "stdout",
          "text": [
            "Number of train data - 60000\n",
            "Number of test data - 10000\n"
          ]
        }
      ]
    },
    {
      "cell_type": "markdown",
      "metadata": {
        "id": "CFlNHktHBtru"
      },
      "source": [
        "## Split the data into train/validation/test data sets\n",
        "\n",
        "\n",
        "*   Training data - used for training the model\n",
        "*   Validation data - used for tuning the hyperparameters and evaluate the models\n",
        "*   Test data - used to test the model after the model has gone through initial vetting by the validation set.\n",
        "\n"
      ]
    },
    {
      "cell_type": "code",
      "metadata": {
        "colab": {
          "base_uri": "https://localhost:8080/"
        },
        "id": "1ShU787gZZg0",
        "outputId": "3eaefe39-c69a-49c9-c07a-a25e9abe850e"
      },
      "source": [
        "# Further break training data into train / validation sets (# put 5000 into validation set and keep remaining 55,000 for train)\n",
        "(x_train, x_valid) = x_train[5000:], x_train[:5000] \n",
        "(y_train, y_valid) = y_train[5000:], y_train[:5000]\n",
        "\n",
        "# Reshape input data from (28, 28) to (28, 28, 1)\n",
        "w, h = 28, 28\n",
        "x_train = x_train.reshape(x_train.shape[0], w, h, 1)\n",
        "x_valid = x_valid.reshape(x_valid.shape[0], w, h, 1)\n",
        "x_test = x_test.reshape(x_test.shape[0], w, h, 1)\n",
        "\n",
        "# One-hot encode the labels\n",
        "y_train = tf.keras.utils.to_categorical(y_train, 10)\n",
        "y_valid = tf.keras.utils.to_categorical(y_valid, 10)\n",
        "y_test = tf.keras.utils.to_categorical(y_test, 10)\n",
        "\n",
        "# Print training set shape\n",
        "print(\"x_train shape:\", x_train.shape, \"y_train shape:\", y_train.shape)\n",
        "\n",
        "# Print the number of training, validation, and test datasets\n",
        "print(x_train.shape[0], 'train set')\n",
        "print(x_valid.shape[0], 'validation set')\n",
        "print(x_test.shape[0], 'test set')"
      ],
      "execution_count": null,
      "outputs": [
        {
          "output_type": "stream",
          "name": "stdout",
          "text": [
            "x_train shape: (55000, 28, 28, 1) y_train shape: (55000, 10)\n",
            "55000 train set\n",
            "5000 validation set\n",
            "10000 test set\n"
          ]
        }
      ]
    },
    {
      "cell_type": "markdown",
      "metadata": {
        "id": "HhalcO03ZZg3"
      },
      "source": [
        "## Create the basic model architecture\n",
        "\n",
        "There are two APIs for defining a model in Keras:\n",
        "1. [Sequential model API](https://keras.io/models/sequential/)\n",
        "2. [Functional API](https://keras.io/models/model/)\n",
        "\n",
        "In this assignment we are using the Sequential model API. \n",
        "If you are interested in a tutorial using the Functional API, checkout Sara Robinson's blog [Predicting the price of wine with the Keras Functional API and TensorFlow](https://medium.com/tensorflow/predicting-the-price-of-wine-with-the-keras-functional-api-and-tensorflow-a95d1c2c1b03).\n",
        "\n",
        "In defining the model we will be using some of these Keras APIs:\n",
        "*   Conv2D() [link text](https://www.tensorflow.org/api_docs/python/tf/keras/layers/Conv2D/) - create a convolutional layer \n",
        "*   Pooling() [link text](https://keras.io/layers/pooling/) - create a pooling layer \n",
        "*   Dropout() [link text](https://www.tensorflow.org/api_docs/python/tf/keras/layers/Dropout) - apply drop out \n",
        "\n",
        "In the basic architecture we create two convolutional layers, and then an inference layer. \n",
        "\n",
        "The key parameters for a convolution layer are: \n",
        "for convolution--(a) number of convolution filters; (b) kernel size;\n",
        "for pooling--kernel for pooling-size;\n",
        "for dropout--dropout probability. We will refer to these as the convolution-layer parameters.\n",
        "\n",
        "The inference-layer parameters are:\n",
        "(a) hidden layer vector-size and activation;\n",
        "(b) dropout probability;\n",
        "(c) output-layer activation.\n",
        "\n",
        "When we design a network we can specify the CNN model using these parameters."
      ]
    },
    {
      "cell_type": "code",
      "metadata": {
        "colab": {
          "base_uri": "https://localhost:8080/"
        },
        "id": "QgTZ47SsZZg4",
        "outputId": "6ed28ef0-ac13-46af-baa9-b78930d2fb10"
      },
      "source": [
        "model = tf.keras.Sequential()\n",
        "\n",
        "# Must define the input shape in the first layer of the neural network\n",
        "model.add(tf.keras.layers.Conv2D(filters=64, kernel_size=2, padding='same', activation='relu', input_shape=(28,28,1))) \n",
        "model.add(tf.keras.layers.MaxPooling2D(pool_size=2))\n",
        "model.add(tf.keras.layers.Dropout(0.3))\n",
        "\n",
        "model.add(tf.keras.layers.Conv2D(filters=32, kernel_size=2, padding='same', activation='relu'))\n",
        "model.add(tf.keras.layers.MaxPooling2D(pool_size =2))\n",
        "model.add(tf.keras.layers.Dropout(0.3))\n",
        "\n",
        "model.add(tf.keras.layers.Flatten())\n",
        "model.add(tf.keras.layers.Dense(256, activation='relu'))\n",
        "model.add(tf.keras.layers.Dropout(0.5))\n",
        "model.add(tf.keras.layers.Dense(10, activation='softmax'))\n",
        "\n",
        "# Take a look at the model summary\n",
        "model.summary()"
      ],
      "execution_count": null,
      "outputs": [
        {
          "output_type": "stream",
          "name": "stdout",
          "text": [
            "Model: \"sequential\"\n",
            "_________________________________________________________________\n",
            " Layer (type)                Output Shape              Param #   \n",
            "=================================================================\n",
            " conv2d (Conv2D)             (None, 28, 28, 64)        320       \n",
            "                                                                 \n",
            " max_pooling2d (MaxPooling2D  (None, 14, 14, 64)       0         \n",
            " )                                                               \n",
            "                                                                 \n",
            " dropout (Dropout)           (None, 14, 14, 64)        0         \n",
            "                                                                 \n",
            " conv2d_1 (Conv2D)           (None, 14, 14, 32)        8224      \n",
            "                                                                 \n",
            " max_pooling2d_1 (MaxPooling  (None, 7, 7, 32)         0         \n",
            " 2D)                                                             \n",
            "                                                                 \n",
            " dropout_1 (Dropout)         (None, 7, 7, 32)          0         \n",
            "                                                                 \n",
            " flatten (Flatten)           (None, 1568)              0         \n",
            "                                                                 \n",
            " dense (Dense)               (None, 256)               401664    \n",
            "                                                                 \n",
            " dropout_2 (Dropout)         (None, 256)               0         \n",
            "                                                                 \n",
            " dense_1 (Dense)             (None, 10)                2570      \n",
            "                                                                 \n",
            "=================================================================\n",
            "Total params: 412,778\n",
            "Trainable params: 412,778\n",
            "Non-trainable params: 0\n",
            "_________________________________________________________________\n"
          ]
        }
      ]
    },
    {
      "cell_type": "markdown",
      "metadata": {
        "id": "FhxJ5dinZZg8"
      },
      "source": [
        "## Compile the model\n",
        "Configure the learning process with compile() API before training the model. It receives three arguments:\n",
        "\n",
        "*   An optimizer \n",
        "*   A loss function \n",
        "*   A list of metrics \n"
      ]
    },
    {
      "cell_type": "code",
      "metadata": {
        "id": "CQUlOa8cZZg9"
      },
      "source": [
        "model.compile(loss='categorical_crossentropy',\n",
        "             optimizer='adam',\n",
        "             metrics=['accuracy'])"
      ],
      "execution_count": null,
      "outputs": []
    },
    {
      "cell_type": "markdown",
      "metadata": {
        "id": "DtOvh3YVZZg_"
      },
      "source": [
        "## Train the model\n",
        "\n",
        "Now let's train the model with fit() API.\n",
        "\n",
        "We use  the [ModelCheckpoint](https://keras.io/callbacks/#modelcheckpoint) API to save the model after every epoch. Set \"save_best_only = True\" to save only when the validation accuracy improves.\n"
      ]
    },
    {
      "cell_type": "code",
      "metadata": {
        "colab": {
          "base_uri": "https://localhost:8080/"
        },
        "id": "ZTmapAttZZhA",
        "outputId": "aacc058c-18b7-4642-a6af-7bb1bdc65aaa"
      },
      "source": [
        "from keras.callbacks import ModelCheckpoint\n",
        "\n",
        "checkpointer = ModelCheckpoint(filepath='model.weights.best.hdf5', verbose = 1, save_best_only=True)\n",
        "model.fit(x_train,\n",
        "         y_train,\n",
        "         batch_size=64,\n",
        "         epochs=10,\n",
        "         validation_data=(x_valid, y_valid),\n",
        "         callbacks=[checkpointer])"
      ],
      "execution_count": null,
      "outputs": [
        {
          "output_type": "stream",
          "name": "stdout",
          "text": [
            "Epoch 1/10\n",
            "860/860 [==============================] - ETA: 0s - loss: 0.6145 - accuracy: 0.7725\n",
            "Epoch 00001: val_loss improved from inf to 0.38737, saving model to model.weights.best.hdf5\n",
            "860/860 [==============================] - 22s 10ms/step - loss: 0.6145 - accuracy: 0.7725 - val_loss: 0.3874 - val_accuracy: 0.8628\n",
            "Epoch 2/10\n",
            "860/860 [==============================] - ETA: 0s - loss: 0.4196 - accuracy: 0.8482\n",
            "Epoch 00002: val_loss improved from 0.38737 to 0.33399, saving model to model.weights.best.hdf5\n",
            "860/860 [==============================] - 8s 10ms/step - loss: 0.4196 - accuracy: 0.8482 - val_loss: 0.3340 - val_accuracy: 0.8824\n",
            "Epoch 3/10\n",
            "859/860 [============================>.] - ETA: 0s - loss: 0.3749 - accuracy: 0.8629\n",
            "Epoch 00003: val_loss improved from 0.33399 to 0.29478, saving model to model.weights.best.hdf5\n",
            "860/860 [==============================] - 8s 10ms/step - loss: 0.3750 - accuracy: 0.8629 - val_loss: 0.2948 - val_accuracy: 0.8942\n",
            "Epoch 4/10\n",
            "856/860 [============================>.] - ETA: 0s - loss: 0.3473 - accuracy: 0.8716\n",
            "Epoch 00004: val_loss improved from 0.29478 to 0.28729, saving model to model.weights.best.hdf5\n",
            "860/860 [==============================] - 8s 10ms/step - loss: 0.3470 - accuracy: 0.8716 - val_loss: 0.2873 - val_accuracy: 0.8948\n",
            "Epoch 5/10\n",
            "855/860 [============================>.] - ETA: 0s - loss: 0.3269 - accuracy: 0.8795\n",
            "Epoch 00005: val_loss improved from 0.28729 to 0.26855, saving model to model.weights.best.hdf5\n",
            "860/860 [==============================] - 8s 9ms/step - loss: 0.3267 - accuracy: 0.8796 - val_loss: 0.2686 - val_accuracy: 0.9020\n",
            "Epoch 6/10\n",
            "854/860 [============================>.] - ETA: 0s - loss: 0.3129 - accuracy: 0.8848\n",
            "Epoch 00006: val_loss improved from 0.26855 to 0.25449, saving model to model.weights.best.hdf5\n",
            "860/860 [==============================] - 8s 10ms/step - loss: 0.3128 - accuracy: 0.8848 - val_loss: 0.2545 - val_accuracy: 0.9052\n",
            "Epoch 7/10\n",
            "857/860 [============================>.] - ETA: 0s - loss: 0.3014 - accuracy: 0.8889\n",
            "Epoch 00007: val_loss did not improve from 0.25449\n",
            "860/860 [==============================] - 8s 9ms/step - loss: 0.3012 - accuracy: 0.8889 - val_loss: 0.2547 - val_accuracy: 0.9040\n",
            "Epoch 8/10\n",
            "855/860 [============================>.] - ETA: 0s - loss: 0.2895 - accuracy: 0.8926\n",
            "Epoch 00008: val_loss improved from 0.25449 to 0.24406, saving model to model.weights.best.hdf5\n",
            "860/860 [==============================] - 8s 9ms/step - loss: 0.2901 - accuracy: 0.8926 - val_loss: 0.2441 - val_accuracy: 0.9130\n",
            "Epoch 9/10\n",
            "857/860 [============================>.] - ETA: 0s - loss: 0.2788 - accuracy: 0.8968\n",
            "Epoch 00009: val_loss improved from 0.24406 to 0.23343, saving model to model.weights.best.hdf5\n",
            "860/860 [==============================] - 8s 9ms/step - loss: 0.2788 - accuracy: 0.8968 - val_loss: 0.2334 - val_accuracy: 0.9138\n",
            "Epoch 10/10\n",
            "859/860 [============================>.] - ETA: 0s - loss: 0.2729 - accuracy: 0.8976\n",
            "Epoch 00010: val_loss did not improve from 0.23343\n",
            "860/860 [==============================] - 8s 9ms/step - loss: 0.2729 - accuracy: 0.8976 - val_loss: 0.2372 - val_accuracy: 0.9114\n"
          ]
        },
        {
          "output_type": "execute_result",
          "data": {
            "text/plain": [
              "<keras.callbacks.History at 0x7fe5600e7150>"
            ]
          },
          "metadata": {},
          "execution_count": 8
        }
      ]
    },
    {
      "cell_type": "markdown",
      "metadata": {
        "id": "e-MGLwZQy05d"
      },
      "source": [
        "## Load Model with the best validation accuracy"
      ]
    },
    {
      "cell_type": "code",
      "metadata": {
        "id": "UD1tecxUZZhE"
      },
      "source": [
        "# Load the weights with the best validation accuracy\n",
        "model.load_weights('model.weights.best.hdf5')"
      ],
      "execution_count": null,
      "outputs": []
    },
    {
      "cell_type": "markdown",
      "metadata": {
        "id": "9RTRkan4yq5H"
      },
      "source": [
        "## Test Accuracy"
      ]
    },
    {
      "cell_type": "code",
      "metadata": {
        "colab": {
          "base_uri": "https://localhost:8080/"
        },
        "id": "VZtqBqFFy62R",
        "outputId": "dcc8fe1b-3942-44f9-918b-01b43eaf78e8"
      },
      "source": [
        "# Evaluate the model on test set\n",
        "score = model.evaluate(x_test, y_test, verbose=0)\n",
        "\n",
        "# Print test accuracy\n",
        "print('\\n', 'Test accuracy:', score[1])"
      ],
      "execution_count": null,
      "outputs": [
        {
          "output_type": "stream",
          "name": "stdout",
          "text": [
            "\n",
            " Test accuracy: 0.9092000126838684\n"
          ]
        }
      ]
    },
    {
      "cell_type": "markdown",
      "metadata": {
        "id": "oJv7XEk10bOv"
      },
      "source": [
        "## Visualize prediction\n",
        "Now let's visualize the prediction using the model you just trained. \n",
        "First we get the predictions with the model from the test data.\n",
        "Then we print out 15 images from the test data set, and set the titles with the prediction (and the groud truth label).\n",
        "If the prediction matches the true label, the title will be green; otherwise it's displayed in red."
      ]
    },
    {
      "cell_type": "code",
      "metadata": {
        "colab": {
          "base_uri": "https://localhost:8080/",
          "height": 485
        },
        "id": "QwNmlfIC0YxM",
        "outputId": "0cc1e97a-836e-4197-f2fc-81af5a58dab5"
      },
      "source": [
        "y_hat = model.predict(x_test)\n",
        "\n",
        "# Plot a random sample of 10 test images, their predicted labels and ground truth\n",
        "figure = plt.figure(figsize=(20, 8))\n",
        "for i, index in enumerate(np.random.choice(x_test.shape[0], size=15, replace=False)):\n",
        "    ax = figure.add_subplot(3, 5, i + 1, xticks=[], yticks=[])\n",
        "    # Display each image\n",
        "    ax.imshow(np.squeeze(x_test[index]))\n",
        "    predict_index = np.argmax(y_hat[index])\n",
        "    true_index = np.argmax(y_test[index])\n",
        "    # Set the title for each image\n",
        "    ax.set_title(\"{} ({})\".format(fashion_mnist_labels[predict_index], \n",
        "                                  fashion_mnist_labels[true_index]),\n",
        "                                  color=(\"green\" if predict_index == true_index else \"red\"))"
      ],
      "execution_count": null,
      "outputs": [
        {
          "output_type": "display_data",
          "data": {
            "image/png": "[encoded data removed]",
            "text/plain": [
              "<Figure size 1440x576 with 15 Axes>"
            ]
          },
          "metadata": {}
        }
      ]
    },
    {
      "cell_type": "code",
      "metadata": {
        "id": "C2ZWPOMglvmA"
      },
      "source": [
        ""
      ],
      "execution_count": null,
      "outputs": []
    },
    {
      "cell_type": "code",
      "metadata": {
        "id": "PI00Mflfl0pI"
      },
      "source": [
        ""
      ],
      "execution_count": null,
      "outputs": []
    },
    {
      "cell_type": "markdown",
      "metadata": {
        "id": "8AehWdRAVKN5"
      },
      "source": [
        "## Task 1: Architecture Comparison\n",
        "The code given above is called the baseline architecture, and will successfully train a CNN to classify fashion-MNIST with near 90% accuracy.\n",
        "We now want to compare other different architectures.\n",
        "\n",
        "Each group must run 10 additional architectures:\n",
        "\n",
        "\n",
        "*   2 different combination of number of filters\n",
        "*   2 different combinations of kernels for (convolution, pooling)\n",
        "*   2 different dropout probability values\n",
        "*   1 new architecture with more layers\n",
        "*   3 experiments with combined changes\n",
        "\n",
        "Report the results in a table with the first column describing the architecture and the second column the predictive accuracy of the model on the data.\n",
        "\n",
        "Describe how the changes to architecture influence the change in accuracy, if there is any significant change. Specifically, describe:\n",
        "* impact of number of filters\n",
        "* impact of kernel size\n",
        "* impact of dropout probability\n",
        "* impact of number of layers\n",
        "* impact of combining multiple changes.\n",
        "\n",
        "## Task 2: TensorFlow coding of model\n",
        "The second main task is to rewrite the high-level Keras code for the model using TensorFlow. The necessary code fragments are noted below. Please fill in the outstanding code and replace the Keras model with your TensorFlow model. Then compile the code to run the basic model configuration (baseline model).\n",
        "\n",
        "\n"
      ]
    },
    {
      "cell_type": "markdown",
      "metadata": {
        "id": "q4kS0AJhz-UQ"
      },
      "source": [
        "# Task 1"
      ]
    },
    {
      "cell_type": "markdown",
      "metadata": {
        "id": "cctewm9oz-UR"
      },
      "source": [
        "## Architecture 1 \n",
        "### Changing number of filters \n",
        "- Filter in 1st layer is changed from 64 to 128\n",
        "- Filter in 2nd layer is changed from 32 to 64"
      ]
    },
    {
      "cell_type": "code",
      "metadata": {
        "colab": {
          "base_uri": "https://localhost:8080/"
        },
        "id": "Y7UZJ8FHz-UR",
        "outputId": "3fac84c4-e3c9-4bc8-8a1a-41384eda5f7d"
      },
      "source": [
        "model1 = tf.keras.Sequential()\n",
        "\n",
        "# Must define the input shape in the first layer of the neural network\n",
        "model1.add(tf.keras.layers.Conv2D(filters=128, kernel_size=2, padding='same', activation='relu', input_shape=(28,28,1))) \n",
        "model1.add(tf.keras.layers.MaxPooling2D(pool_size=2))\n",
        "model1.add(tf.keras.layers.Dropout(0.3))\n",
        "\n",
        "model1.add(tf.keras.layers.Conv2D(filters=64, kernel_size=2, padding='same', activation='relu'))\n",
        "model1.add(tf.keras.layers.MaxPooling2D(pool_size=2))\n",
        "model1.add(tf.keras.layers.Dropout(0.3))\n",
        "\n",
        "model1.add(tf.keras.layers.Flatten())\n",
        "model1.add(tf.keras.layers.Dense(256, activation='relu'))\n",
        "model1.add(tf.keras.layers.Dropout(0.5))\n",
        "model1.add(tf.keras.layers.Dense(10, activation='softmax'))\n",
        "\n",
        "# Take a look at the model summary\n",
        "model1.summary()"
      ],
      "execution_count": null,
      "outputs": [
        {
          "output_type": "stream",
          "name": "stdout",
          "text": [
            "Model: \"sequential_12\"\n",
            "_________________________________________________________________\n",
            " Layer (type)                Output Shape              Param #   \n",
            "=================================================================\n",
            " conv2d_26 (Conv2D)          (None, 28, 28, 128)       640       \n",
            "                                                                 \n",
            " max_pooling2d_26 (MaxPoolin  (None, 14, 14, 128)      0         \n",
            " g2D)                                                            \n",
            "                                                                 \n",
            " dropout_38 (Dropout)        (None, 14, 14, 128)       0         \n",
            "                                                                 \n",
            " conv2d_27 (Conv2D)          (None, 14, 14, 64)        32832     \n",
            "                                                                 \n",
            " max_pooling2d_27 (MaxPoolin  (None, 7, 7, 64)         0         \n",
            " g2D)                                                            \n",
            "                                                                 \n",
            " dropout_39 (Dropout)        (None, 7, 7, 64)          0         \n",
            "                                                                 \n",
            " flatten_12 (Flatten)        (None, 3136)              0         \n",
            "                                                                 \n",
            " dense_24 (Dense)            (None, 256)               803072    \n",
            "                                                                 \n",
            " dropout_40 (Dropout)        (None, 256)               0         \n",
            "                                                                 \n",
            " dense_25 (Dense)            (None, 10)                2570      \n",
            "                                                                 \n",
            "=================================================================\n",
            "Total params: 839,114\n",
            "Trainable params: 839,114\n",
            "Non-trainable params: 0\n",
            "_________________________________________________________________\n"
          ]
        }
      ]
    },
    {
      "cell_type": "code",
      "metadata": {
        "id": "xDt1vw_ez-UR"
      },
      "source": [
        "model1.compile(loss='categorical_crossentropy',\n",
        "             optimizer='adam',\n",
        "             metrics=['accuracy'])"
      ],
      "execution_count": null,
      "outputs": []
    },
    {
      "cell_type": "code",
      "metadata": {
        "colab": {
          "base_uri": "https://localhost:8080/"
        },
        "id": "3WpvZ8H8z-UR",
        "outputId": "0b00a98e-9ed2-42d7-b57b-272f0643b05a"
      },
      "source": [
        "from keras.callbacks import ModelCheckpoint\n",
        "\n",
        "checkpointer = ModelCheckpoint(filepath='model.weights.best.hdf5', verbose = 1, save_best_only=True)\n",
        "hist1 = model1.fit(x_train,\n",
        "         y_train,\n",
        "         batch_size=64,\n",
        "         epochs=10,\n",
        "         validation_data=(x_valid, y_valid),\n",
        "         callbacks=[checkpointer])"
      ],
      "execution_count": null,
      "outputs": [
        {
          "output_type": "stream",
          "name": "stdout",
          "text": [
            "Epoch 1/10\n",
            "860/860 [==============================] - ETA: 0s - loss: 0.5405 - accuracy: 0.8015\n",
            "Epoch 00001: val_loss improved from inf to 0.33848, saving model to model.weights.best.hdf5\n",
            "860/860 [==============================] - 12s 14ms/step - loss: 0.5405 - accuracy: 0.8015 - val_loss: 0.3385 - val_accuracy: 0.8822\n",
            "Epoch 2/10\n",
            "859/860 [============================>.] - ETA: 0s - loss: 0.3746 - accuracy: 0.8640\n",
            "Epoch 00002: val_loss improved from 0.33848 to 0.29261, saving model to model.weights.best.hdf5\n",
            "860/860 [==============================] - 11s 13ms/step - loss: 0.3746 - accuracy: 0.8639 - val_loss: 0.2926 - val_accuracy: 0.8956\n",
            "Epoch 3/10\n",
            "857/860 [============================>.] - ETA: 0s - loss: 0.3292 - accuracy: 0.8799\n",
            "Epoch 00003: val_loss improved from 0.29261 to 0.26811, saving model to model.weights.best.hdf5\n",
            "860/860 [==============================] - 12s 14ms/step - loss: 0.3293 - accuracy: 0.8798 - val_loss: 0.2681 - val_accuracy: 0.9020\n",
            "Epoch 4/10\n",
            "856/860 [============================>.] - ETA: 0s - loss: 0.3001 - accuracy: 0.8899\n",
            "Epoch 00004: val_loss improved from 0.26811 to 0.25635, saving model to model.weights.best.hdf5\n",
            "860/860 [==============================] - 11s 13ms/step - loss: 0.3005 - accuracy: 0.8899 - val_loss: 0.2563 - val_accuracy: 0.9056\n",
            "Epoch 5/10\n",
            "858/860 [============================>.] - ETA: 0s - loss: 0.2823 - accuracy: 0.8957\n",
            "Epoch 00005: val_loss improved from 0.25635 to 0.23912, saving model to model.weights.best.hdf5\n",
            "860/860 [==============================] - 12s 14ms/step - loss: 0.2825 - accuracy: 0.8957 - val_loss: 0.2391 - val_accuracy: 0.9114\n",
            "Epoch 6/10\n",
            "859/860 [============================>.] - ETA: 0s - loss: 0.2648 - accuracy: 0.9030\n",
            "Epoch 00006: val_loss improved from 0.23912 to 0.22539, saving model to model.weights.best.hdf5\n",
            "860/860 [==============================] - 12s 14ms/step - loss: 0.2649 - accuracy: 0.9030 - val_loss: 0.2254 - val_accuracy: 0.9182\n",
            "Epoch 7/10\n",
            "857/860 [============================>.] - ETA: 0s - loss: 0.2538 - accuracy: 0.9067\n",
            "Epoch 00007: val_loss improved from 0.22539 to 0.21497, saving model to model.weights.best.hdf5\n",
            "860/860 [==============================] - 12s 14ms/step - loss: 0.2539 - accuracy: 0.9067 - val_loss: 0.2150 - val_accuracy: 0.9164\n",
            "Epoch 8/10\n",
            "859/860 [============================>.] - ETA: 0s - loss: 0.2387 - accuracy: 0.9106\n",
            "Epoch 00008: val_loss did not improve from 0.21497\n",
            "860/860 [==============================] - 11s 13ms/step - loss: 0.2388 - accuracy: 0.9106 - val_loss: 0.2226 - val_accuracy: 0.9154\n",
            "Epoch 9/10\n",
            "858/860 [============================>.] - ETA: 0s - loss: 0.2299 - accuracy: 0.9151\n",
            "Epoch 00009: val_loss did not improve from 0.21497\n",
            "860/860 [==============================] - 12s 14ms/step - loss: 0.2302 - accuracy: 0.9150 - val_loss: 0.2182 - val_accuracy: 0.9218\n",
            "Epoch 10/10\n",
            "859/860 [============================>.] - ETA: 0s - loss: 0.2247 - accuracy: 0.9153\n",
            "Epoch 00010: val_loss did not improve from 0.21497\n",
            "860/860 [==============================] - 11s 13ms/step - loss: 0.2247 - accuracy: 0.9153 - val_loss: 0.2271 - val_accuracy: 0.9148\n"
          ]
        }
      ]
    },
    {
      "cell_type": "code",
      "metadata": {
        "id": "EkmqSnhjz-US"
      },
      "source": [
        "model1.load_weights('model.weights.best.hdf5')"
      ],
      "execution_count": null,
      "outputs": []
    },
    {
      "cell_type": "code",
      "metadata": {
        "colab": {
          "base_uri": "https://localhost:8080/",
          "height": 300
        },
        "id": "oyO3X4S3WHgK",
        "outputId": "55c8ed30-cc73-44e8-ebdf-d400aa0f4397"
      },
      "source": [
        "plt.plot(hist1.history['accuracy'], label='accuracy')\n",
        "plt.plot(hist1.history['val_accuracy'], label = 'val_accuracy')\n",
        "plt.xlabel('Epoch')\n",
        "plt.ylabel('Accuracy')\n",
        "plt.ylim([0.5, 1])\n",
        "plt.legend(loc='lower right')\n",
        "\n",
        "test_loss, test_acc = model1.evaluate(x_test,  y_test, verbose=2)"
      ],
      "execution_count": null,
      "outputs": [
        {
          "output_type": "stream",
          "name": "stdout",
          "text": [
            "313/313 - 1s - loss: 0.2372 - accuracy: 0.9144 - 1s/epoch - 4ms/step\n"
          ]
        },
        {
          "output_type": "display_data",
          "data": {
            "image/png": "[encoded data removed]",
            "text/plain": [
              "<Figure size 432x288 with 1 Axes>"
            ]
          },
          "metadata": {
            "needs_background": "light"
          }
        }
      ]
    },
    {
      "cell_type": "code",
      "metadata": {
        "colab": {
          "base_uri": "https://localhost:8080/"
        },
        "id": "PbDRnvolz-US",
        "outputId": "d6ab2ab6-7537-4520-9418-cbcf8894f0a6"
      },
      "source": [
        "# Evaluate the model on test set\n",
        "score1 = model1.evaluate(x_test, y_test, verbose=0)\n",
        "\n",
        "# Print test accuracy\n",
        "print('\\n', 'Test accuracy:', score1[1])"
      ],
      "execution_count": null,
      "outputs": [
        {
          "output_type": "stream",
          "name": "stdout",
          "text": [
            "\n",
            " Test accuracy: 0.9143999814987183\n"
          ]
        }
      ]
    },
    {
      "cell_type": "markdown",
      "metadata": {
        "id": "op2GLjQfz-US"
      },
      "source": [
        "## Architecture 2 - changing no of filters\n",
        "- changing 1st convolutional layer and 2nd convolutional layer from 32 to 64 "
      ]
    },
    {
      "cell_type": "code",
      "metadata": {
        "colab": {
          "base_uri": "https://localhost:8080/"
        },
        "id": "J9Mr_sYIz-UT",
        "outputId": "7f011885-ecf9-408d-c620-40b483d15626"
      },
      "source": [
        "model2 = tf.keras.Sequential()\n",
        "\n",
        "# Must define the input shape in the first layer of the neural network\n",
        "model2.add(tf.keras.layers.Conv2D(filters=64, kernel_size=2, padding='same', activation='relu', input_shape=(28,28,1))) \n",
        "model2.add(tf.keras.layers.MaxPooling2D(pool_size=2))\n",
        "model2.add(tf.keras.layers.Dropout(0.3))\n",
        "\n",
        "model2.add(tf.keras.layers.Conv2D(filters=64, kernel_size=2, padding='same', activation='relu'))\n",
        "model2.add(tf.keras.layers.MaxPooling2D(pool_size=2))\n",
        "model2.add(tf.keras.layers.Dropout(0.3))\n",
        "\n",
        "model2.add(tf.keras.layers.Flatten())\n",
        "model2.add(tf.keras.layers.Dense(256, activation='relu'))\n",
        "model2.add(tf.keras.layers.Dropout(0.5))\n",
        "model2.add(tf.keras.layers.Dense(10, activation='softmax'))\n",
        "\n",
        "# Take a look at the model summary\n",
        "model2.summary()"
      ],
      "execution_count": null,
      "outputs": [
        {
          "output_type": "stream",
          "name": "stdout",
          "text": [
            "Model: \"sequential_2\"\n",
            "_________________________________________________________________\n",
            " Layer (type)                Output Shape              Param #   \n",
            "=================================================================\n",
            " conv2d_4 (Conv2D)           (None, 28, 28, 64)        320       \n",
            "                                                                 \n",
            " max_pooling2d_4 (MaxPooling  (None, 14, 14, 64)       0         \n",
            " 2D)                                                             \n",
            "                                                                 \n",
            " dropout_6 (Dropout)         (None, 14, 14, 64)        0         \n",
            "                                                                 \n",
            " conv2d_5 (Conv2D)           (None, 14, 14, 64)        16448     \n",
            "                                                                 \n",
            " max_pooling2d_5 (MaxPooling  (None, 7, 7, 64)         0         \n",
            " 2D)                                                             \n",
            "                                                                 \n",
            " dropout_7 (Dropout)         (None, 7, 7, 64)          0         \n",
            "                                                                 \n",
            " flatten_2 (Flatten)         (None, 3136)              0         \n",
            "                                                                 \n",
            " dense_4 (Dense)             (None, 256)               803072    \n",
            "                                                                 \n",
            " dropout_8 (Dropout)         (None, 256)               0         \n",
            "                                                                 \n",
            " dense_5 (Dense)             (None, 10)                2570      \n",
            "                                                                 \n",
            "=================================================================\n",
            "Total params: 822,410\n",
            "Trainable params: 822,410\n",
            "Non-trainable params: 0\n",
            "_________________________________________________________________\n"
          ]
        }
      ]
    },
    {
      "cell_type": "code",
      "metadata": {
        "id": "2DIbAQNnz-UT"
      },
      "source": [
        "model2.compile(loss='categorical_crossentropy',\n",
        "             optimizer='adam',\n",
        "             metrics=['accuracy'])"
      ],
      "execution_count": null,
      "outputs": []
    },
    {
      "cell_type": "code",
      "metadata": {
        "colab": {
          "base_uri": "https://localhost:8080/"
        },
        "id": "Ox_Ctfvbz-UT",
        "outputId": "ff084967-baee-4e67-be1f-56a97a495c3f"
      },
      "source": [
        "from keras.callbacks import ModelCheckpoint\n",
        "\n",
        "checkpointer = ModelCheckpoint(filepath='model.weights.best.hdf5', verbose = 1, save_best_only=True)\n",
        "hist2 = model2.fit(x_train,\n",
        "         y_train,\n",
        "         batch_size=64,\n",
        "         epochs=10,\n",
        "         validation_data=(x_valid, y_valid),\n",
        "         callbacks=[checkpointer])"
      ],
      "execution_count": null,
      "outputs": [
        {
          "output_type": "stream",
          "name": "stdout",
          "text": [
            "Epoch 1/10\n",
            "859/860 [============================>.] - ETA: 0s - loss: 0.5561 - accuracy: 0.7972\n",
            "Epoch 00001: val_loss improved from inf to 0.34776, saving model to model.weights.best.hdf5\n",
            "860/860 [==============================] - 9s 10ms/step - loss: 0.5560 - accuracy: 0.7972 - val_loss: 0.3478 - val_accuracy: 0.8758\n",
            "Epoch 2/10\n",
            "856/860 [============================>.] - ETA: 0s - loss: 0.3879 - accuracy: 0.8604\n",
            "Epoch 00002: val_loss improved from 0.34776 to 0.31035, saving model to model.weights.best.hdf5\n",
            "860/860 [==============================] - 9s 10ms/step - loss: 0.3876 - accuracy: 0.8605 - val_loss: 0.3104 - val_accuracy: 0.8882\n",
            "Epoch 3/10\n",
            "858/860 [============================>.] - ETA: 0s - loss: 0.3429 - accuracy: 0.8747\n",
            "Epoch 00003: val_loss improved from 0.31035 to 0.27561, saving model to model.weights.best.hdf5\n",
            "860/860 [==============================] - 9s 10ms/step - loss: 0.3428 - accuracy: 0.8747 - val_loss: 0.2756 - val_accuracy: 0.8978\n",
            "Epoch 4/10\n",
            "857/860 [============================>.] - ETA: 0s - loss: 0.3167 - accuracy: 0.8840\n",
            "Epoch 00004: val_loss improved from 0.27561 to 0.26376, saving model to model.weights.best.hdf5\n",
            "860/860 [==============================] - 9s 10ms/step - loss: 0.3170 - accuracy: 0.8839 - val_loss: 0.2638 - val_accuracy: 0.9048\n",
            "Epoch 5/10\n",
            "856/860 [============================>.] - ETA: 0s - loss: 0.2967 - accuracy: 0.8910\n",
            "Epoch 00005: val_loss improved from 0.26376 to 0.24114, saving model to model.weights.best.hdf5\n",
            "860/860 [==============================] - 9s 10ms/step - loss: 0.2968 - accuracy: 0.8910 - val_loss: 0.2411 - val_accuracy: 0.9122\n",
            "Epoch 6/10\n",
            "855/860 [============================>.] - ETA: 0s - loss: 0.2767 - accuracy: 0.8976\n",
            "Epoch 00006: val_loss improved from 0.24114 to 0.23411, saving model to model.weights.best.hdf5\n",
            "860/860 [==============================] - 8s 10ms/step - loss: 0.2770 - accuracy: 0.8976 - val_loss: 0.2341 - val_accuracy: 0.9118\n",
            "Epoch 7/10\n",
            "855/860 [============================>.] - ETA: 0s - loss: 0.2672 - accuracy: 0.9025\n",
            "Epoch 00007: val_loss improved from 0.23411 to 0.22275, saving model to model.weights.best.hdf5\n",
            "860/860 [==============================] - 9s 10ms/step - loss: 0.2672 - accuracy: 0.9025 - val_loss: 0.2227 - val_accuracy: 0.9192\n",
            "Epoch 8/10\n",
            "857/860 [============================>.] - ETA: 0s - loss: 0.2558 - accuracy: 0.9057\n",
            "Epoch 00008: val_loss improved from 0.22275 to 0.22110, saving model to model.weights.best.hdf5\n",
            "860/860 [==============================] - 9s 10ms/step - loss: 0.2556 - accuracy: 0.9058 - val_loss: 0.2211 - val_accuracy: 0.9148\n",
            "Epoch 9/10\n",
            "857/860 [============================>.] - ETA: 0s - loss: 0.2461 - accuracy: 0.9085\n",
            "Epoch 00009: val_loss improved from 0.22110 to 0.21847, saving model to model.weights.best.hdf5\n",
            "860/860 [==============================] - 9s 10ms/step - loss: 0.2461 - accuracy: 0.9085 - val_loss: 0.2185 - val_accuracy: 0.9148\n",
            "Epoch 10/10\n",
            "855/860 [============================>.] - ETA: 0s - loss: 0.2353 - accuracy: 0.9138\n",
            "Epoch 00010: val_loss improved from 0.21847 to 0.20745, saving model to model.weights.best.hdf5\n",
            "860/860 [==============================] - 9s 10ms/step - loss: 0.2354 - accuracy: 0.9138 - val_loss: 0.2074 - val_accuracy: 0.9228\n"
          ]
        }
      ]
    },
    {
      "cell_type": "code",
      "metadata": {
        "id": "BZNBfTRSz-UT"
      },
      "source": [
        "model2.load_weights('model.weights.best.hdf5')"
      ],
      "execution_count": null,
      "outputs": []
    },
    {
      "cell_type": "code",
      "metadata": {
        "colab": {
          "base_uri": "https://localhost:8080/",
          "height": 300
        },
        "id": "r9SWrcivXIwR",
        "outputId": "e7949c6c-de6d-46c8-a1ab-2172882573ab"
      },
      "source": [
        "plt.plot(hist2.history['accuracy'], label='accuracy')\n",
        "plt.plot(hist2.history['val_accuracy'], label = 'val_accuracy')\n",
        "plt.xlabel('Epoch')\n",
        "plt.ylabel('Accuracy')\n",
        "plt.ylim([0.5, 1])\n",
        "plt.legend(loc='lower right')\n",
        "\n",
        "test_loss, test_acc = model2.evaluate(x_test,  y_test, verbose=2)"
      ],
      "execution_count": null,
      "outputs": [
        {
          "output_type": "stream",
          "name": "stdout",
          "text": [
            "313/313 - 1s - loss: 0.2377 - accuracy: 0.9120 - 1s/epoch - 4ms/step\n"
          ]
        },
        {
          "output_type": "display_data",
          "data": {
            "image/png": "[encoded data removed]",
            "text/plain": [
              "<Figure size 432x288 with 1 Axes>"
            ]
          },
          "metadata": {
            "needs_background": "light"
          }
        }
      ]
    },
    {
      "cell_type": "code",
      "metadata": {
        "colab": {
          "base_uri": "https://localhost:8080/"
        },
        "id": "UrXVpYQLz-UU",
        "outputId": "b63781d5-67a2-40db-da55-910218b67b78"
      },
      "source": [
        "# Evaluate the model on test set\n",
        "score2 = model2.evaluate(x_test, y_test, verbose=0)\n",
        "\n",
        "# Print test accuracy\n",
        "print('\\n', 'Test accuracy:', score2[1])"
      ],
      "execution_count": null,
      "outputs": [
        {
          "output_type": "stream",
          "name": "stdout",
          "text": [
            "\n",
            " Test accuracy: 0.9120000004768372\n"
          ]
        }
      ]
    },
    {
      "cell_type": "markdown",
      "metadata": {
        "id": "wwUZ7T5-z-UU"
      },
      "source": [
        "## Architecture 3 - different combinations of kernels for convolutional and pooling \n",
        "### 1st Layer \n",
        "- convolutional kernel size 5x5 \n",
        "- pooling kernel size 5x5\n",
        "### 2nd layer \n",
        "- convolutional kernel size 5x5\n",
        "- pooling kernel size 5x5"
      ]
    },
    {
      "cell_type": "code",
      "metadata": {
        "colab": {
          "base_uri": "https://localhost:8080/"
        },
        "id": "9zp3UEiKz-UU",
        "outputId": "247e41a9-da1c-4c69-c200-f0878c46b0d7"
      },
      "source": [
        "model3 = tf.keras.Sequential()\n",
        "\n",
        "# Must define the input shape in the first layer of the neural network\n",
        "model3.add(tf.keras.layers.Conv2D(filters=64, kernel_size=5, padding='same', activation='relu', input_shape=(28,28,1))) \n",
        "model3.add(tf.keras.layers.MaxPooling2D(pool_size=5))\n",
        "model3.add(tf.keras.layers.Dropout(0.3))\n",
        "\n",
        "model3.add(tf.keras.layers.Conv2D(filters=32, kernel_size=5, padding='same', activation='relu'))\n",
        "model3.add(tf.keras.layers.MaxPooling2D(pool_size=5))\n",
        "model3.add(tf.keras.layers.Dropout(0.3))\n",
        "\n",
        "model3.add(tf.keras.layers.Flatten())\n",
        "model3.add(tf.keras.layers.Dense(256, activation='relu'))\n",
        "model3.add(tf.keras.layers.Dropout(0.5))\n",
        "model3.add(tf.keras.layers.Dense(10, activation='softmax'))\n",
        "\n",
        "# Take a look at the model summary\n",
        "model3.summary()"
      ],
      "execution_count": null,
      "outputs": [
        {
          "output_type": "stream",
          "name": "stdout",
          "text": [
            "Model: \"sequential_3\"\n",
            "_________________________________________________________________\n",
            " Layer (type)                Output Shape              Param #   \n",
            "=================================================================\n",
            " conv2d_6 (Conv2D)           (None, 28, 28, 64)        1664      \n",
            "                                                                 \n",
            " max_pooling2d_6 (MaxPooling  (None, 5, 5, 64)         0         \n",
            " 2D)                                                             \n",
            "                                                                 \n",
            " dropout_9 (Dropout)         (None, 5, 5, 64)          0         \n",
            "                                                                 \n",
            " conv2d_7 (Conv2D)           (None, 5, 5, 32)          51232     \n",
            "                                                                 \n",
            " max_pooling2d_7 (MaxPooling  (None, 1, 1, 32)         0         \n",
            " 2D)                                                             \n",
            "                                                                 \n",
            " dropout_10 (Dropout)        (None, 1, 1, 32)          0         \n",
            "                                                                 \n",
            " flatten_3 (Flatten)         (None, 32)                0         \n",
            "                                                                 \n",
            " dense_6 (Dense)             (None, 256)               8448      \n",
            "                                                                 \n",
            " dropout_11 (Dropout)        (None, 256)               0         \n",
            "                                                                 \n",
            " dense_7 (Dense)             (None, 10)                2570      \n",
            "                                                                 \n",
            "=================================================================\n",
            "Total params: 63,914\n",
            "Trainable params: 63,914\n",
            "Non-trainable params: 0\n",
            "_________________________________________________________________\n"
          ]
        }
      ]
    },
    {
      "cell_type": "code",
      "metadata": {
        "id": "wFM9hqDuz-UU"
      },
      "source": [
        "model3.compile(loss='categorical_crossentropy',\n",
        "             optimizer='adam',\n",
        "             metrics=['accuracy'])"
      ],
      "execution_count": null,
      "outputs": []
    },
    {
      "cell_type": "code",
      "metadata": {
        "colab": {
          "base_uri": "https://localhost:8080/"
        },
        "id": "dkHFD-d2z-UU",
        "outputId": "2f9a1d40-cc99-4392-bfb5-586a2cc47c47"
      },
      "source": [
        "from keras.callbacks import ModelCheckpoint\n",
        "\n",
        "checkpointer = ModelCheckpoint(filepath='model.weights.best.hdf5', verbose = 1, save_best_only=True)\n",
        "hist3 = model3.fit(x_train,\n",
        "         y_train,\n",
        "         batch_size=64,\n",
        "         epochs=10,\n",
        "         validation_data=(x_valid, y_valid),\n",
        "         callbacks=[checkpointer])"
      ],
      "execution_count": null,
      "outputs": [
        {
          "output_type": "stream",
          "name": "stdout",
          "text": [
            "Epoch 1/10\n",
            "860/860 [==============================] - ETA: 0s - loss: 0.8396 - accuracy: 0.6833\n",
            "Epoch 00001: val_loss improved from inf to 0.45746, saving model to model.weights.best.hdf5\n",
            "860/860 [==============================] - 9s 10ms/step - loss: 0.8396 - accuracy: 0.6833 - val_loss: 0.4575 - val_accuracy: 0.8194\n",
            "Epoch 2/10\n",
            "854/860 [============================>.] - ETA: 0s - loss: 0.5435 - accuracy: 0.8010\n",
            "Epoch 00002: val_loss improved from 0.45746 to 0.37224, saving model to model.weights.best.hdf5\n",
            "860/860 [==============================] - 8s 9ms/step - loss: 0.5433 - accuracy: 0.8010 - val_loss: 0.3722 - val_accuracy: 0.8662\n",
            "Epoch 3/10\n",
            "857/860 [============================>.] - ETA: 0s - loss: 0.4826 - accuracy: 0.8247\n",
            "Epoch 00003: val_loss improved from 0.37224 to 0.33148, saving model to model.weights.best.hdf5\n",
            "860/860 [==============================] - 8s 9ms/step - loss: 0.4822 - accuracy: 0.8249 - val_loss: 0.3315 - val_accuracy: 0.8838\n",
            "Epoch 4/10\n",
            "855/860 [============================>.] - ETA: 0s - loss: 0.4477 - accuracy: 0.8366\n",
            "Epoch 00004: val_loss improved from 0.33148 to 0.31721, saving model to model.weights.best.hdf5\n",
            "860/860 [==============================] - 8s 9ms/step - loss: 0.4479 - accuracy: 0.8365 - val_loss: 0.3172 - val_accuracy: 0.8862\n",
            "Epoch 5/10\n",
            "860/860 [==============================] - ETA: 0s - loss: 0.4245 - accuracy: 0.8456\n",
            "Epoch 00005: val_loss improved from 0.31721 to 0.30289, saving model to model.weights.best.hdf5\n",
            "860/860 [==============================] - 8s 9ms/step - loss: 0.4245 - accuracy: 0.8456 - val_loss: 0.3029 - val_accuracy: 0.8884\n",
            "Epoch 6/10\n",
            "860/860 [==============================] - ETA: 0s - loss: 0.4108 - accuracy: 0.8499\n",
            "Epoch 00006: val_loss improved from 0.30289 to 0.29886, saving model to model.weights.best.hdf5\n",
            "860/860 [==============================] - 8s 9ms/step - loss: 0.4108 - accuracy: 0.8499 - val_loss: 0.2989 - val_accuracy: 0.8914\n",
            "Epoch 7/10\n",
            "855/860 [============================>.] - ETA: 0s - loss: 0.3951 - accuracy: 0.8553\n",
            "Epoch 00007: val_loss improved from 0.29886 to 0.29286, saving model to model.weights.best.hdf5\n",
            "860/860 [==============================] - 8s 9ms/step - loss: 0.3946 - accuracy: 0.8555 - val_loss: 0.2929 - val_accuracy: 0.8938\n",
            "Epoch 8/10\n",
            "859/860 [============================>.] - ETA: 0s - loss: 0.3852 - accuracy: 0.8594\n",
            "Epoch 00008: val_loss improved from 0.29286 to 0.29156, saving model to model.weights.best.hdf5\n",
            "860/860 [==============================] - 8s 9ms/step - loss: 0.3853 - accuracy: 0.8594 - val_loss: 0.2916 - val_accuracy: 0.8948\n",
            "Epoch 9/10\n",
            "856/860 [============================>.] - ETA: 0s - loss: 0.3793 - accuracy: 0.8616\n",
            "Epoch 00009: val_loss improved from 0.29156 to 0.28837, saving model to model.weights.best.hdf5\n",
            "860/860 [==============================] - 8s 9ms/step - loss: 0.3794 - accuracy: 0.8616 - val_loss: 0.2884 - val_accuracy: 0.8964\n",
            "Epoch 10/10\n",
            "857/860 [============================>.] - ETA: 0s - loss: 0.3755 - accuracy: 0.8626\n",
            "Epoch 00010: val_loss did not improve from 0.28837\n",
            "860/860 [==============================] - 8s 9ms/step - loss: 0.3752 - accuracy: 0.8628 - val_loss: 0.2906 - val_accuracy: 0.8934\n"
          ]
        }
      ]
    },
    {
      "cell_type": "code",
      "metadata": {
        "id": "0U1QeTbxz-UV"
      },
      "source": [
        "model3.load_weights('model.weights.best.hdf5')"
      ],
      "execution_count": null,
      "outputs": []
    },
    {
      "cell_type": "code",
      "metadata": {
        "colab": {
          "base_uri": "https://localhost:8080/",
          "height": 300
        },
        "id": "nMSf0u0RXRzA",
        "outputId": "24e65094-1398-4b4a-afc7-f56e46ef5a4d"
      },
      "source": [
        "plt.plot(hist3.history['accuracy'], label='accuracy')\n",
        "plt.plot(hist3.history['val_accuracy'], label = 'val_accuracy')\n",
        "plt.xlabel('Epoch')\n",
        "plt.ylabel('Accuracy')\n",
        "plt.ylim([0.5, 1])\n",
        "plt.legend(loc='lower right')\n",
        "\n",
        "test_loss, test_acc = model3.evaluate(x_test,  y_test, verbose=2)"
      ],
      "execution_count": null,
      "outputs": [
        {
          "output_type": "stream",
          "name": "stdout",
          "text": [
            "313/313 - 1s - loss: 0.3192 - accuracy: 0.8799 - 1s/epoch - 4ms/step\n"
          ]
        },
        {
          "output_type": "display_data",
          "data": {
            "image/png": "[encoded data removed]",
            "text/plain": [
              "<Figure size 432x288 with 1 Axes>"
            ]
          },
          "metadata": {
            "needs_background": "light"
          }
        }
      ]
    },
    {
      "cell_type": "code",
      "metadata": {
        "colab": {
          "base_uri": "https://localhost:8080/"
        },
        "id": "WFTDGtkpz-UV",
        "outputId": "1a33acb3-b0eb-4aca-a7d5-a69845c21a01"
      },
      "source": [
        "# Evaluate the model on test set\n",
        "score3 = model3.evaluate(x_test, y_test, verbose=0)\n",
        "\n",
        "# Print test accuracy\n",
        "print('\\n', 'Test accuracy:', score3[1])"
      ],
      "execution_count": null,
      "outputs": [
        {
          "output_type": "stream",
          "name": "stdout",
          "text": [
            "\n",
            " Test accuracy: 0.8798999786376953\n"
          ]
        }
      ]
    },
    {
      "cell_type": "markdown",
      "metadata": {
        "id": "zPNuWqqpz-UV"
      },
      "source": [
        "## Architecture 4 - changing combinations of kernels for convolutional and pooling \n",
        "### 1st Layer \n",
        "- convolutional = 3x3\n",
        "- pooling = 3x3\n",
        "### 2nd layer \n",
        "- convolutional = 3x3  \n",
        "- pooling = 3x3"
      ]
    },
    {
      "cell_type": "code",
      "metadata": {
        "colab": {
          "base_uri": "https://localhost:8080/"
        },
        "id": "iabGZD8rz-UV",
        "outputId": "1bc6cdf1-7e02-4871-e429-9ee5f237d782"
      },
      "source": [
        "model4 = tf.keras.Sequential()\n",
        "\n",
        "# Must define the input shape in the first layer of the neural network\n",
        "model4.add(tf.keras.layers.Conv2D(filters=64, kernel_size=3, padding='same', activation='relu', input_shape=(28,28,1))) \n",
        "model4.add(tf.keras.layers.MaxPooling2D(pool_size=3))\n",
        "model4.add(tf.keras.layers.Dropout(0.3))\n",
        "\n",
        "model4.add(tf.keras.layers.Conv2D(filters=32, kernel_size=3, padding='same', activation='relu'))\n",
        "model4.add(tf.keras.layers.MaxPooling2D(pool_size=3))\n",
        "model4.add(tf.keras.layers.Dropout(0.3))\n",
        "\n",
        "model4.add(tf.keras.layers.Flatten())\n",
        "model4.add(tf.keras.layers.Dense(256, activation='relu'))\n",
        "model4.add(tf.keras.layers.Dropout(0.5))\n",
        "model4.add(tf.keras.layers.Dense(10, activation='softmax'))\n",
        "\n",
        "# Take a look at the model summary\n",
        "model4.summary()"
      ],
      "execution_count": null,
      "outputs": [
        {
          "output_type": "stream",
          "name": "stdout",
          "text": [
            "Model: \"sequential_4\"\n",
            "_________________________________________________________________\n",
            " Layer (type)                Output Shape              Param #   \n",
            "=================================================================\n",
            " conv2d_8 (Conv2D)           (None, 28, 28, 64)        640       \n",
            "                                                                 \n",
            " max_pooling2d_8 (MaxPooling  (None, 9, 9, 64)         0         \n",
            " 2D)                                                             \n",
            "                                                                 \n",
            " dropout_12 (Dropout)        (None, 9, 9, 64)          0         \n",
            "                                                                 \n",
            " conv2d_9 (Conv2D)           (None, 9, 9, 32)          18464     \n",
            "                                                                 \n",
            " max_pooling2d_9 (MaxPooling  (None, 3, 3, 32)         0         \n",
            " 2D)                                                             \n",
            "                                                                 \n",
            " dropout_13 (Dropout)        (None, 3, 3, 32)          0         \n",
            "                                                                 \n",
            " flatten_4 (Flatten)         (None, 288)               0         \n",
            "                                                                 \n",
            " dense_8 (Dense)             (None, 256)               73984     \n",
            "                                                                 \n",
            " dropout_14 (Dropout)        (None, 256)               0         \n",
            "                                                                 \n",
            " dense_9 (Dense)             (None, 10)                2570      \n",
            "                                                                 \n",
            "=================================================================\n",
            "Total params: 95,658\n",
            "Trainable params: 95,658\n",
            "Non-trainable params: 0\n",
            "_________________________________________________________________\n"
          ]
        }
      ]
    },
    {
      "cell_type": "code",
      "metadata": {
        "id": "LHyKo1IPz-UV"
      },
      "source": [
        "model4.compile(loss='categorical_crossentropy',\n",
        "             optimizer='adam',\n",
        "             metrics=['accuracy'])"
      ],
      "execution_count": null,
      "outputs": []
    },
    {
      "cell_type": "code",
      "metadata": {
        "colab": {
          "base_uri": "https://localhost:8080/"
        },
        "id": "AAWOqSydz-UW",
        "outputId": "fc23a983-c019-4270-fd2d-f838cf0442dd"
      },
      "source": [
        "from keras.callbacks import ModelCheckpoint\n",
        "\n",
        "checkpointer = ModelCheckpoint(filepath='model.weights.best.hdf5', verbose = 1, save_best_only=True)\n",
        "hist4 = model4.fit(x_train,\n",
        "         y_train,\n",
        "         batch_size=64,\n",
        "         epochs=10,\n",
        "         validation_data=(x_valid, y_valid),\n",
        "         callbacks=[checkpointer])"
      ],
      "execution_count": null,
      "outputs": [
        {
          "output_type": "stream",
          "name": "stdout",
          "text": [
            "Epoch 1/10\n",
            "860/860 [==============================] - ETA: 0s - loss: 0.7640 - accuracy: 0.7172\n",
            "Epoch 00001: val_loss improved from inf to 0.42742, saving model to model.weights.best.hdf5\n",
            "860/860 [==============================] - 9s 9ms/step - loss: 0.7640 - accuracy: 0.7172 - val_loss: 0.4274 - val_accuracy: 0.8424\n",
            "Epoch 2/10\n",
            "854/860 [============================>.] - ETA: 0s - loss: 0.4896 - accuracy: 0.8202\n",
            "Epoch 00002: val_loss improved from 0.42742 to 0.35054, saving model to model.weights.best.hdf5\n",
            "860/860 [==============================] - 8s 9ms/step - loss: 0.4894 - accuracy: 0.8203 - val_loss: 0.3505 - val_accuracy: 0.8658\n",
            "Epoch 3/10\n",
            "857/860 [============================>.] - ETA: 0s - loss: 0.4264 - accuracy: 0.8450\n",
            "Epoch 00003: val_loss improved from 0.35054 to 0.30488, saving model to model.weights.best.hdf5\n",
            "860/860 [==============================] - 7s 9ms/step - loss: 0.4261 - accuracy: 0.8451 - val_loss: 0.3049 - val_accuracy: 0.8916\n",
            "Epoch 4/10\n",
            "855/860 [============================>.] - ETA: 0s - loss: 0.3887 - accuracy: 0.8593\n",
            "Epoch 00004: val_loss improved from 0.30488 to 0.28645, saving model to model.weights.best.hdf5\n",
            "860/860 [==============================] - 8s 9ms/step - loss: 0.3890 - accuracy: 0.8592 - val_loss: 0.2865 - val_accuracy: 0.9000\n",
            "Epoch 5/10\n",
            "855/860 [============================>.] - ETA: 0s - loss: 0.3679 - accuracy: 0.8632\n",
            "Epoch 00005: val_loss improved from 0.28645 to 0.26781, saving model to model.weights.best.hdf5\n",
            "860/860 [==============================] - 7s 9ms/step - loss: 0.3679 - accuracy: 0.8633 - val_loss: 0.2678 - val_accuracy: 0.9026\n",
            "Epoch 6/10\n",
            "857/860 [============================>.] - ETA: 0s - loss: 0.3523 - accuracy: 0.8706\n",
            "Epoch 00006: val_loss did not improve from 0.26781\n",
            "860/860 [==============================] - 8s 9ms/step - loss: 0.3523 - accuracy: 0.8705 - val_loss: 0.2738 - val_accuracy: 0.8986\n",
            "Epoch 7/10\n",
            "856/860 [============================>.] - ETA: 0s - loss: 0.3434 - accuracy: 0.8755\n",
            "Epoch 00007: val_loss improved from 0.26781 to 0.25361, saving model to model.weights.best.hdf5\n",
            "860/860 [==============================] - 8s 9ms/step - loss: 0.3437 - accuracy: 0.8753 - val_loss: 0.2536 - val_accuracy: 0.9086\n",
            "Epoch 8/10\n",
            "857/860 [============================>.] - ETA: 0s - loss: 0.3349 - accuracy: 0.8770\n",
            "Epoch 00008: val_loss did not improve from 0.25361\n",
            "860/860 [==============================] - 7s 9ms/step - loss: 0.3347 - accuracy: 0.8770 - val_loss: 0.2647 - val_accuracy: 0.9052\n",
            "Epoch 9/10\n",
            "857/860 [============================>.] - ETA: 0s - loss: 0.3207 - accuracy: 0.8812\n",
            "Epoch 00009: val_loss improved from 0.25361 to 0.24606, saving model to model.weights.best.hdf5\n",
            "860/860 [==============================] - 7s 9ms/step - loss: 0.3207 - accuracy: 0.8813 - val_loss: 0.2461 - val_accuracy: 0.9078\n",
            "Epoch 10/10\n",
            "855/860 [============================>.] - ETA: 0s - loss: 0.3190 - accuracy: 0.8822\n",
            "Epoch 00010: val_loss improved from 0.24606 to 0.24207, saving model to model.weights.best.hdf5\n",
            "860/860 [==============================] - 8s 9ms/step - loss: 0.3189 - accuracy: 0.8822 - val_loss: 0.2421 - val_accuracy: 0.9116\n"
          ]
        }
      ]
    },
    {
      "cell_type": "code",
      "metadata": {
        "id": "df64QBurz-UW"
      },
      "source": [
        "model4.load_weights('model.weights.best.hdf5')"
      ],
      "execution_count": null,
      "outputs": []
    },
    {
      "cell_type": "code",
      "metadata": {
        "colab": {
          "base_uri": "https://localhost:8080/",
          "height": 300
        },
        "id": "Z6j-ac1KXdYo",
        "outputId": "7abbd31e-8215-48d4-dcfd-1c4adcb9bd67"
      },
      "source": [
        "plt.plot(hist4.history['accuracy'], label='accuracy')\n",
        "plt.plot(hist4.history['val_accuracy'], label = 'val_accuracy')\n",
        "plt.xlabel('Epoch')\n",
        "plt.ylabel('Accuracy')\n",
        "plt.ylim([0.5, 1])\n",
        "plt.legend(loc='lower right')\n",
        "\n",
        "test_loss, test_acc = model4.evaluate(x_test,  y_test, verbose=2)"
      ],
      "execution_count": null,
      "outputs": [
        {
          "output_type": "stream",
          "name": "stdout",
          "text": [
            "313/313 - 1s - loss: 0.2685 - accuracy: 0.8983 - 1s/epoch - 4ms/step\n"
          ]
        },
        {
          "output_type": "display_data",
          "data": {
            "image/png": "[encoded data removed]",
            "text/plain": [
              "<Figure size 432x288 with 1 Axes>"
            ]
          },
          "metadata": {
            "needs_background": "light"
          }
        }
      ]
    },
    {
      "cell_type": "code",
      "metadata": {
        "colab": {
          "base_uri": "https://localhost:8080/"
        },
        "id": "CBqLPFDaz-UW",
        "outputId": "6eb053a2-d146-4793-b226-c4ad7e1291a9"
      },
      "source": [
        "# Evaluate the model on test set\n",
        "score4 = model4.evaluate(x_test, y_test, verbose=0)\n",
        "\n",
        "# Print test accuracy\n",
        "print('\\n', 'Test accuracy:', score4[1])"
      ],
      "execution_count": null,
      "outputs": [
        {
          "output_type": "stream",
          "name": "stdout",
          "text": [
            "\n",
            " Test accuracy: 0.8982999920845032\n"
          ]
        }
      ]
    },
    {
      "cell_type": "markdown",
      "metadata": {
        "id": "yD6zxE-Kz-UW"
      },
      "source": [
        "## Architecture 5 - different dropout probabilities\n",
        "- changing from 0.3 to 0.4 in first layer \n",
        "- changing from 0.3 to 0.4 in second layer"
      ]
    },
    {
      "cell_type": "code",
      "metadata": {
        "colab": {
          "base_uri": "https://localhost:8080/"
        },
        "id": "7mS8sPTAz-UW",
        "outputId": "deab7b12-2621-4e6f-baf3-1869fac61c07"
      },
      "source": [
        "model5 = tf.keras.Sequential()\n",
        "\n",
        "# Must define the input shape in the first layer of the neural network\n",
        "model5.add(tf.keras.layers.Conv2D(filters=32, kernel_size=2, padding='same', activation='relu', input_shape=(28,28,1))) \n",
        "model5.add(tf.keras.layers.MaxPooling2D(pool_size=2))\n",
        "model5.add(tf.keras.layers.Dropout(0.4))\n",
        "\n",
        "model5.add(tf.keras.layers.Conv2D(filters=32, kernel_size=2, padding='same', activation='relu'))\n",
        "model5.add(tf.keras.layers.MaxPooling2D(pool_size=2))\n",
        "model5.add(tf.keras.layers.Dropout(0.4))\n",
        "\n",
        "model5.add(tf.keras.layers.Flatten())\n",
        "model5.add(tf.keras.layers.Dense(256, activation='relu'))\n",
        "model5.add(tf.keras.layers.Dropout(0.5))\n",
        "model5.add(tf.keras.layers.Dense(10, activation='softmax'))\n",
        "\n",
        "# Take a look at the model summary\n",
        "model5.summary()"
      ],
      "execution_count": null,
      "outputs": [
        {
          "output_type": "stream",
          "name": "stdout",
          "text": [
            "Model: \"sequential_5\"\n",
            "_________________________________________________________________\n",
            " Layer (type)                Output Shape              Param #   \n",
            "=================================================================\n",
            " conv2d_10 (Conv2D)          (None, 28, 28, 32)        160       \n",
            "                                                                 \n",
            " max_pooling2d_10 (MaxPoolin  (None, 14, 14, 32)       0         \n",
            " g2D)                                                            \n",
            "                                                                 \n",
            " dropout_15 (Dropout)        (None, 14, 14, 32)        0         \n",
            "                                                                 \n",
            " conv2d_11 (Conv2D)          (None, 14, 14, 32)        4128      \n",
            "                                                                 \n",
            " max_pooling2d_11 (MaxPoolin  (None, 7, 7, 32)         0         \n",
            " g2D)                                                            \n",
            "                                                                 \n",
            " dropout_16 (Dropout)        (None, 7, 7, 32)          0         \n",
            "                                                                 \n",
            " flatten_5 (Flatten)         (None, 1568)              0         \n",
            "                                                                 \n",
            " dense_10 (Dense)            (None, 256)               401664    \n",
            "                                                                 \n",
            " dropout_17 (Dropout)        (None, 256)               0         \n",
            "                                                                 \n",
            " dense_11 (Dense)            (None, 10)                2570      \n",
            "                                                                 \n",
            "=================================================================\n",
            "Total params: 408,522\n",
            "Trainable params: 408,522\n",
            "Non-trainable params: 0\n",
            "_________________________________________________________________\n"
          ]
        }
      ]
    },
    {
      "cell_type": "code",
      "metadata": {
        "id": "KQr7Vu6fz-UX"
      },
      "source": [
        "model5.compile(loss='categorical_crossentropy',\n",
        "             optimizer='adam',\n",
        "             metrics=['accuracy'])"
      ],
      "execution_count": null,
      "outputs": []
    },
    {
      "cell_type": "code",
      "metadata": {
        "colab": {
          "base_uri": "https://localhost:8080/"
        },
        "id": "QVjc5rboz-UX",
        "outputId": "0d8dafeb-dc07-430e-ba04-b62515d29007"
      },
      "source": [
        "from keras.callbacks import ModelCheckpoint\n",
        "\n",
        "checkpointer = ModelCheckpoint(filepath='model.weights.best.hdf5', verbose = 1, save_best_only=True)\n",
        "hist5 = model5.fit(x_train,\n",
        "         y_train,\n",
        "         batch_size=64,\n",
        "         epochs=10,\n",
        "         validation_data=(x_valid, y_valid),\n",
        "         callbacks=[checkpointer])"
      ],
      "execution_count": null,
      "outputs": [
        {
          "output_type": "stream",
          "name": "stdout",
          "text": [
            "Epoch 1/10\n",
            "860/860 [==============================] - ETA: 0s - loss: 0.6645 - accuracy: 0.7526\n",
            "Epoch 00001: val_loss improved from inf to 0.41502, saving model to model.weights.best.hdf5\n",
            "860/860 [==============================] - 8s 9ms/step - loss: 0.6645 - accuracy: 0.7526 - val_loss: 0.4150 - val_accuracy: 0.8588\n",
            "Epoch 2/10\n",
            "856/860 [============================>.] - ETA: 0s - loss: 0.4656 - accuracy: 0.8298\n",
            "Epoch 00002: val_loss improved from 0.41502 to 0.35282, saving model to model.weights.best.hdf5\n",
            "860/860 [==============================] - 7s 8ms/step - loss: 0.4654 - accuracy: 0.8299 - val_loss: 0.3528 - val_accuracy: 0.8750\n",
            "Epoch 3/10\n",
            "856/860 [============================>.] - ETA: 0s - loss: 0.4187 - accuracy: 0.8473\n",
            "Epoch 00003: val_loss improved from 0.35282 to 0.32057, saving model to model.weights.best.hdf5\n",
            "860/860 [==============================] - 7s 8ms/step - loss: 0.4187 - accuracy: 0.8472 - val_loss: 0.3206 - val_accuracy: 0.8862\n",
            "Epoch 4/10\n",
            "857/860 [============================>.] - ETA: 0s - loss: 0.3899 - accuracy: 0.8574\n",
            "Epoch 00004: val_loss improved from 0.32057 to 0.30138, saving model to model.weights.best.hdf5\n",
            "860/860 [==============================] - 7s 8ms/step - loss: 0.3899 - accuracy: 0.8575 - val_loss: 0.3014 - val_accuracy: 0.8908\n",
            "Epoch 5/10\n",
            "859/860 [============================>.] - ETA: 0s - loss: 0.3682 - accuracy: 0.8640\n",
            "Epoch 00005: val_loss improved from 0.30138 to 0.28638, saving model to model.weights.best.hdf5\n",
            "860/860 [==============================] - 7s 8ms/step - loss: 0.3683 - accuracy: 0.8640 - val_loss: 0.2864 - val_accuracy: 0.8996\n",
            "Epoch 6/10\n",
            "856/860 [============================>.] - ETA: 0s - loss: 0.3509 - accuracy: 0.8711\n",
            "Epoch 00006: val_loss improved from 0.28638 to 0.26965, saving model to model.weights.best.hdf5\n",
            "860/860 [==============================] - 7s 8ms/step - loss: 0.3507 - accuracy: 0.8711 - val_loss: 0.2696 - val_accuracy: 0.9054\n",
            "Epoch 7/10\n",
            "857/860 [============================>.] - ETA: 0s - loss: 0.3358 - accuracy: 0.8762\n",
            "Epoch 00007: val_loss improved from 0.26965 to 0.26699, saving model to model.weights.best.hdf5\n",
            "860/860 [==============================] - 7s 8ms/step - loss: 0.3355 - accuracy: 0.8764 - val_loss: 0.2670 - val_accuracy: 0.8998\n",
            "Epoch 8/10\n",
            "855/860 [============================>.] - ETA: 0s - loss: 0.3271 - accuracy: 0.8790\n",
            "Epoch 00008: val_loss improved from 0.26699 to 0.25060, saving model to model.weights.best.hdf5\n",
            "860/860 [==============================] - 7s 8ms/step - loss: 0.3267 - accuracy: 0.8792 - val_loss: 0.2506 - val_accuracy: 0.9098\n",
            "Epoch 9/10\n",
            "858/860 [============================>.] - ETA: 0s - loss: 0.3203 - accuracy: 0.8814\n",
            "Epoch 00009: val_loss improved from 0.25060 to 0.24829, saving model to model.weights.best.hdf5\n",
            "860/860 [==============================] - 7s 8ms/step - loss: 0.3201 - accuracy: 0.8815 - val_loss: 0.2483 - val_accuracy: 0.9098\n",
            "Epoch 10/10\n",
            "857/860 [============================>.] - ETA: 0s - loss: 0.3121 - accuracy: 0.8841\n",
            "Epoch 00010: val_loss improved from 0.24829 to 0.24795, saving model to model.weights.best.hdf5\n",
            "860/860 [==============================] - 7s 8ms/step - loss: 0.3119 - accuracy: 0.8842 - val_loss: 0.2479 - val_accuracy: 0.9092\n"
          ]
        }
      ]
    },
    {
      "cell_type": "code",
      "metadata": {
        "id": "S9PCgo6xz-UX"
      },
      "source": [
        "model5.load_weights('model.weights.best.hdf5')"
      ],
      "execution_count": null,
      "outputs": []
    },
    {
      "cell_type": "code",
      "metadata": {
        "id": "JBYEUNR5Xpc_",
        "colab": {
          "base_uri": "https://localhost:8080/",
          "height": 300
        },
        "outputId": "bdd5e1b2-01da-43dc-de88-ef3e112022de"
      },
      "source": [
        "plt.plot(hist5.history['accuracy'], label='accuracy')\n",
        "plt.plot(hist5.history['val_accuracy'], label = 'val_accuracy')\n",
        "plt.xlabel('Epoch')\n",
        "plt.ylabel('Accuracy')\n",
        "plt.ylim([0.5, 1])\n",
        "plt.legend(loc='lower right')\n",
        "\n",
        "test_loss, test_acc = model5.evaluate(x_test,  y_test, verbose=2)"
      ],
      "execution_count": null,
      "outputs": [
        {
          "output_type": "stream",
          "name": "stdout",
          "text": [
            "313/313 - 1s - loss: 0.2694 - accuracy: 0.9021 - 1s/epoch - 3ms/step\n"
          ]
        },
        {
          "output_type": "display_data",
          "data": {
            "image/png": "[encoded data removed]",
            "text/plain": [
              "<Figure size 432x288 with 1 Axes>"
            ]
          },
          "metadata": {
            "needs_background": "light"
          }
        }
      ]
    },
    {
      "cell_type": "code",
      "metadata": {
        "colab": {
          "base_uri": "https://localhost:8080/"
        },
        "id": "MNW84AZTz-UX",
        "outputId": "b259e26f-a5dc-4ec8-e603-1bef045b018b"
      },
      "source": [
        "score5 = model5.evaluate(x_test, y_test, verbose=0)\n",
        "\n",
        "# Print test accuracy\n",
        "print('\\n', 'Test accuracy:', score5[1])"
      ],
      "execution_count": null,
      "outputs": [
        {
          "output_type": "stream",
          "name": "stdout",
          "text": [
            "\n",
            " Test accuracy: 0.9021000266075134\n"
          ]
        }
      ]
    },
    {
      "cell_type": "markdown",
      "metadata": {
        "id": "MZAvmVsPz-UY"
      },
      "source": [
        "## Architecture 6 - changing dropout probabilites \n",
        "- 1st layer changed to 0.25\n",
        "- 2nd layer changed to 0.25 "
      ]
    },
    {
      "cell_type": "code",
      "metadata": {
        "colab": {
          "base_uri": "https://localhost:8080/"
        },
        "id": "goMBllsWz-UY",
        "outputId": "772a37a1-84ad-48fc-b332-0c2d1cf2960b"
      },
      "source": [
        "model6 = tf.keras.Sequential()\n",
        "\n",
        "# Must define the input shape in the first layer of the neural network\n",
        "model6.add(tf.keras.layers.Conv2D(filters=32, kernel_size=2, padding='same', activation='relu', input_shape=(28,28,1))) \n",
        "model6.add(tf.keras.layers.MaxPooling2D(pool_size=2))\n",
        "model6.add(tf.keras.layers.Dropout(0.25))\n",
        "\n",
        "model6.add(tf.keras.layers.Conv2D(filters=32, kernel_size=2, padding='same', activation='relu'))\n",
        "model6.add(tf.keras.layers.MaxPooling2D(pool_size=2))\n",
        "model6.add(tf.keras.layers.Dropout(0.25))\n",
        "\n",
        "model6.add(tf.keras.layers.Flatten())\n",
        "model6.add(tf.keras.layers.Dense(256, activation='relu'))\n",
        "model6.add(tf.keras.layers.Dropout(0.5))\n",
        "model6.add(tf.keras.layers.Dense(10, activation='softmax'))\n",
        "\n",
        "# Take a look at the model summary\n",
        "model6.summary()"
      ],
      "execution_count": null,
      "outputs": [
        {
          "output_type": "stream",
          "name": "stdout",
          "text": [
            "Model: \"sequential_6\"\n",
            "_________________________________________________________________\n",
            " Layer (type)                Output Shape              Param #   \n",
            "=================================================================\n",
            " conv2d_12 (Conv2D)          (None, 28, 28, 32)        160       \n",
            "                                                                 \n",
            " max_pooling2d_12 (MaxPoolin  (None, 14, 14, 32)       0         \n",
            " g2D)                                                            \n",
            "                                                                 \n",
            " dropout_18 (Dropout)        (None, 14, 14, 32)        0         \n",
            "                                                                 \n",
            " conv2d_13 (Conv2D)          (None, 14, 14, 32)        4128      \n",
            "                                                                 \n",
            " max_pooling2d_13 (MaxPoolin  (None, 7, 7, 32)         0         \n",
            " g2D)                                                            \n",
            "                                                                 \n",
            " dropout_19 (Dropout)        (None, 7, 7, 32)          0         \n",
            "                                                                 \n",
            " flatten_6 (Flatten)         (None, 1568)              0         \n",
            "                                                                 \n",
            " dense_12 (Dense)            (None, 256)               401664    \n",
            "                                                                 \n",
            " dropout_20 (Dropout)        (None, 256)               0         \n",
            "                                                                 \n",
            " dense_13 (Dense)            (None, 10)                2570      \n",
            "                                                                 \n",
            "=================================================================\n",
            "Total params: 408,522\n",
            "Trainable params: 408,522\n",
            "Non-trainable params: 0\n",
            "_________________________________________________________________\n"
          ]
        }
      ]
    },
    {
      "cell_type": "code",
      "metadata": {
        "id": "mcXXusmRz-UY"
      },
      "source": [
        "model6.compile(loss='categorical_crossentropy',\n",
        "             optimizer='adam',\n",
        "             metrics=['accuracy'])"
      ],
      "execution_count": null,
      "outputs": []
    },
    {
      "cell_type": "code",
      "metadata": {
        "colab": {
          "base_uri": "https://localhost:8080/"
        },
        "id": "wM2h7-v-z-UY",
        "outputId": "f23a72ed-e607-4314-9bcc-c42fe28da110"
      },
      "source": [
        "checkpointer = ModelCheckpoint(filepath='model.weights.best.hdf5', verbose = 1, save_best_only=True)\n",
        "hist6=model6.fit(x_train,\n",
        "         y_train,\n",
        "         batch_size=64,\n",
        "         epochs=10,\n",
        "         validation_data=(x_valid, y_valid),\n",
        "         callbacks=[checkpointer])"
      ],
      "execution_count": null,
      "outputs": [
        {
          "output_type": "stream",
          "name": "stdout",
          "text": [
            "Epoch 1/10\n",
            "855/860 [============================>.] - ETA: 0s - loss: 0.6047 - accuracy: 0.7769\n",
            "Epoch 00001: val_loss improved from inf to 0.37384, saving model to model.weights.best.hdf5\n",
            "860/860 [==============================] - 8s 8ms/step - loss: 0.6036 - accuracy: 0.7774 - val_loss: 0.3738 - val_accuracy: 0.8692\n",
            "Epoch 2/10\n",
            "854/860 [============================>.] - ETA: 0s - loss: 0.4144 - accuracy: 0.8491\n",
            "Epoch 00002: val_loss improved from 0.37384 to 0.32195, saving model to model.weights.best.hdf5\n",
            "860/860 [==============================] - 7s 8ms/step - loss: 0.4143 - accuracy: 0.8491 - val_loss: 0.3219 - val_accuracy: 0.8858\n",
            "Epoch 3/10\n",
            "854/860 [============================>.] - ETA: 0s - loss: 0.3699 - accuracy: 0.8669\n",
            "Epoch 00003: val_loss improved from 0.32195 to 0.28822, saving model to model.weights.best.hdf5\n",
            "860/860 [==============================] - 7s 8ms/step - loss: 0.3698 - accuracy: 0.8670 - val_loss: 0.2882 - val_accuracy: 0.8952\n",
            "Epoch 4/10\n",
            "857/860 [============================>.] - ETA: 0s - loss: 0.3432 - accuracy: 0.8738\n",
            "Epoch 00004: val_loss improved from 0.28822 to 0.28111, saving model to model.weights.best.hdf5\n",
            "860/860 [==============================] - 7s 8ms/step - loss: 0.3432 - accuracy: 0.8738 - val_loss: 0.2811 - val_accuracy: 0.9008\n",
            "Epoch 5/10\n",
            "856/860 [============================>.] - ETA: 0s - loss: 0.3219 - accuracy: 0.8830\n",
            "Epoch 00005: val_loss improved from 0.28111 to 0.27203, saving model to model.weights.best.hdf5\n",
            "860/860 [==============================] - 7s 8ms/step - loss: 0.3220 - accuracy: 0.8830 - val_loss: 0.2720 - val_accuracy: 0.9008\n",
            "Epoch 6/10\n",
            "855/860 [============================>.] - ETA: 0s - loss: 0.3067 - accuracy: 0.8867\n",
            "Epoch 00006: val_loss improved from 0.27203 to 0.26066, saving model to model.weights.best.hdf5\n",
            "860/860 [==============================] - 7s 8ms/step - loss: 0.3069 - accuracy: 0.8866 - val_loss: 0.2607 - val_accuracy: 0.9082\n",
            "Epoch 7/10\n",
            "854/860 [============================>.] - ETA: 0s - loss: 0.2972 - accuracy: 0.8904\n",
            "Epoch 00007: val_loss improved from 0.26066 to 0.24652, saving model to model.weights.best.hdf5\n",
            "860/860 [==============================] - 7s 8ms/step - loss: 0.2971 - accuracy: 0.8904 - val_loss: 0.2465 - val_accuracy: 0.9094\n",
            "Epoch 8/10\n",
            "854/860 [============================>.] - ETA: 0s - loss: 0.2807 - accuracy: 0.8979\n",
            "Epoch 00008: val_loss improved from 0.24652 to 0.23344, saving model to model.weights.best.hdf5\n",
            "860/860 [==============================] - 7s 8ms/step - loss: 0.2808 - accuracy: 0.8978 - val_loss: 0.2334 - val_accuracy: 0.9152\n",
            "Epoch 9/10\n",
            "858/860 [============================>.] - ETA: 0s - loss: 0.2768 - accuracy: 0.8975\n",
            "Epoch 00009: val_loss did not improve from 0.23344\n",
            "860/860 [==============================] - 7s 8ms/step - loss: 0.2767 - accuracy: 0.8975 - val_loss: 0.2443 - val_accuracy: 0.9126\n",
            "Epoch 10/10\n",
            "854/860 [============================>.] - ETA: 0s - loss: 0.2672 - accuracy: 0.9014\n",
            "Epoch 00010: val_loss improved from 0.23344 to 0.22869, saving model to model.weights.best.hdf5\n",
            "860/860 [==============================] - 7s 8ms/step - loss: 0.2671 - accuracy: 0.9014 - val_loss: 0.2287 - val_accuracy: 0.9124\n"
          ]
        }
      ]
    },
    {
      "cell_type": "code",
      "metadata": {
        "id": "UxdKZffPz-UY"
      },
      "source": [
        "model6.load_weights('model.weights.best.hdf5')"
      ],
      "execution_count": null,
      "outputs": []
    },
    {
      "cell_type": "code",
      "metadata": {
        "id": "M-7HE6k-Xuif",
        "colab": {
          "base_uri": "https://localhost:8080/",
          "height": 300
        },
        "outputId": "ba381831-bcc4-4874-a019-d8525953946c"
      },
      "source": [
        "plt.plot(hist6.history['accuracy'], label='accuracy')\n",
        "plt.plot(hist6.history['val_accuracy'], label = 'val_accuracy')\n",
        "plt.xlabel('Epoch')\n",
        "plt.ylabel('Accuracy')\n",
        "plt.ylim([0.5, 1])\n",
        "plt.legend(loc='lower right')\n",
        "\n",
        "test_loss, test_acc = model6.evaluate(x_test,  y_test, verbose=2)"
      ],
      "execution_count": null,
      "outputs": [
        {
          "output_type": "stream",
          "name": "stdout",
          "text": [
            "313/313 - 1s - loss: 0.2464 - accuracy: 0.9120 - 1s/epoch - 3ms/step\n"
          ]
        },
        {
          "output_type": "display_data",
          "data": {
            "image/png": "[encoded data removed]",
            "text/plain": [
              "<Figure size 432x288 with 1 Axes>"
            ]
          },
          "metadata": {
            "needs_background": "light"
          }
        }
      ]
    },
    {
      "cell_type": "code",
      "metadata": {
        "colab": {
          "base_uri": "https://localhost:8080/"
        },
        "id": "23I6TJoJz-UZ",
        "outputId": "d419c4ea-30d6-4c7b-abca-a3421072f273"
      },
      "source": [
        "score6 = model6.evaluate(x_test, y_test, verbose=0)\n",
        "\n",
        "# Print test accuracy\n",
        "print('\\n', 'Test accuracy:', score6[1])"
      ],
      "execution_count": null,
      "outputs": [
        {
          "output_type": "stream",
          "name": "stdout",
          "text": [
            "\n",
            " Test accuracy: 0.9120000004768372\n"
          ]
        }
      ]
    },
    {
      "cell_type": "markdown",
      "metadata": {
        "id": "5bbg_4ngz-UZ"
      },
      "source": [
        "## Architecture 7 - 1 more layer\n",
        "### 3rd layer \n",
        "- convolutinal = filter - 32, kernel size - 2x2\n",
        "- pooling = kernel size - 2x2\n",
        "- dropout = 0.3"
      ]
    },
    {
      "cell_type": "code",
      "metadata": {
        "colab": {
          "base_uri": "https://localhost:8080/"
        },
        "id": "yvZ9wp4uz-UZ",
        "outputId": "09d94a21-a237-4c52-bd17-e4ed738d3e95"
      },
      "source": [
        "model7 = tf.keras.Sequential()\n",
        "\n",
        "# Must define the input shape in the first layer of the neural network\n",
        "model7.add(tf.keras.layers.Conv2D(filters=32, kernel_size=2, padding='same', activation='relu', input_shape=(28,28,1))) \n",
        "model7.add(tf.keras.layers.MaxPooling2D(pool_size=2))\n",
        "model7.add(tf.keras.layers.Dropout(0.3))\n",
        "\n",
        "model7.add(tf.keras.layers.Conv2D(filters=32, kernel_size=2, padding='same', activation='relu'))\n",
        "model7.add(tf.keras.layers.MaxPooling2D(pool_size=2))\n",
        "model7.add(tf.keras.layers.Dropout(0.3))\n",
        "\n",
        "#new layer\n",
        "model7.add(tf.keras.layers.Conv2D(filters=32, kernel_size=2, padding='same', activation='relu'))\n",
        "model7.add(tf.keras.layers.MaxPooling2D(pool_size=2))\n",
        "model7.add(tf.keras.layers.Dropout(0.3))\n",
        "\n",
        "model7.add(tf.keras.layers.Conv2D(filters=32, kernel_size=2, padding='same', activation='relu'))\n",
        "model7.add(tf.keras.layers.MaxPooling2D(pool_size=2))\n",
        "model7.add(tf.keras.layers.Dropout(0.3))\n",
        "\n",
        "model7.add(tf.keras.layers.Flatten())\n",
        "model7.add(tf.keras.layers.Dense(256, activation='relu'))\n",
        "model7.add(tf.keras.layers.Dropout(0.5))\n",
        "model7.add(tf.keras.layers.Dense(10, activation='softmax'))\n",
        "\n",
        "# Take a look at the model summary\n",
        "model7.summary()"
      ],
      "execution_count": null,
      "outputs": [
        {
          "output_type": "stream",
          "name": "stdout",
          "text": [
            "Model: \"sequential_7\"\n",
            "_________________________________________________________________\n",
            " Layer (type)                Output Shape              Param #   \n",
            "=================================================================\n",
            " conv2d_14 (Conv2D)          (None, 28, 28, 32)        160       \n",
            "                                                                 \n",
            " max_pooling2d_14 (MaxPoolin  (None, 14, 14, 32)       0         \n",
            " g2D)                                                            \n",
            "                                                                 \n",
            " dropout_21 (Dropout)        (None, 14, 14, 32)        0         \n",
            "                                                                 \n",
            " conv2d_15 (Conv2D)          (None, 14, 14, 32)        4128      \n",
            "                                                                 \n",
            " max_pooling2d_15 (MaxPoolin  (None, 7, 7, 32)         0         \n",
            " g2D)                                                            \n",
            "                                                                 \n",
            " dropout_22 (Dropout)        (None, 7, 7, 32)          0         \n",
            "                                                                 \n",
            " conv2d_16 (Conv2D)          (None, 7, 7, 32)          4128      \n",
            "                                                                 \n",
            " max_pooling2d_16 (MaxPoolin  (None, 3, 3, 32)         0         \n",
            " g2D)                                                            \n",
            "                                                                 \n",
            " dropout_23 (Dropout)        (None, 3, 3, 32)          0         \n",
            "                                                                 \n",
            " conv2d_17 (Conv2D)          (None, 3, 3, 32)          4128      \n",
            "                                                                 \n",
            " max_pooling2d_17 (MaxPoolin  (None, 1, 1, 32)         0         \n",
            " g2D)                                                            \n",
            "                                                                 \n",
            " dropout_24 (Dropout)        (None, 1, 1, 32)          0         \n",
            "                                                                 \n",
            " flatten_7 (Flatten)         (None, 32)                0         \n",
            "                                                                 \n",
            " dense_14 (Dense)            (None, 256)               8448      \n",
            "                                                                 \n",
            " dropout_25 (Dropout)        (None, 256)               0         \n",
            "                                                                 \n",
            " dense_15 (Dense)            (None, 10)                2570      \n",
            "                                                                 \n",
            "=================================================================\n",
            "Total params: 23,562\n",
            "Trainable params: 23,562\n",
            "Non-trainable params: 0\n",
            "_________________________________________________________________\n"
          ]
        }
      ]
    },
    {
      "cell_type": "code",
      "metadata": {
        "id": "XJtWSa7Cz-UZ"
      },
      "source": [
        "model7.compile(loss='categorical_crossentropy',\n",
        "             optimizer='adam',\n",
        "             metrics=['accuracy'])"
      ],
      "execution_count": null,
      "outputs": []
    },
    {
      "cell_type": "code",
      "metadata": {
        "colab": {
          "base_uri": "https://localhost:8080/"
        },
        "id": "1YK-4PVIz-UZ",
        "outputId": "8e5f1998-cf67-4205-d942-dbcba19e457c"
      },
      "source": [
        "checkpointer = ModelCheckpoint(filepath='model.weights.best.hdf5', verbose = 1, save_best_only=True)\n",
        "hist7=model7.fit(x_train,\n",
        "         y_train,\n",
        "         batch_size=64,\n",
        "         epochs=10,\n",
        "         validation_data=(x_valid, y_valid),\n",
        "         callbacks=[checkpointer])"
      ],
      "execution_count": null,
      "outputs": [
        {
          "output_type": "stream",
          "name": "stdout",
          "text": [
            "Epoch 1/10\n",
            "860/860 [==============================] - ETA: 0s - loss: 1.1756 - accuracy: 0.5384\n",
            "Epoch 00001: val_loss improved from inf to 0.67276, saving model to model.weights.best.hdf5\n",
            "860/860 [==============================] - 9s 10ms/step - loss: 1.1756 - accuracy: 0.5384 - val_loss: 0.6728 - val_accuracy: 0.7272\n",
            "Epoch 2/10\n",
            "856/860 [============================>.] - ETA: 0s - loss: 0.7693 - accuracy: 0.7017\n",
            "Epoch 00002: val_loss improved from 0.67276 to 0.58580, saving model to model.weights.best.hdf5\n",
            "860/860 [==============================] - 8s 9ms/step - loss: 0.7694 - accuracy: 0.7017 - val_loss: 0.5858 - val_accuracy: 0.7656\n",
            "Epoch 3/10\n",
            "858/860 [============================>.] - ETA: 0s - loss: 0.6955 - accuracy: 0.7337\n",
            "Epoch 00003: val_loss improved from 0.58580 to 0.52565, saving model to model.weights.best.hdf5\n",
            "860/860 [==============================] - 8s 9ms/step - loss: 0.6955 - accuracy: 0.7337 - val_loss: 0.5256 - val_accuracy: 0.8140\n",
            "Epoch 4/10\n",
            "858/860 [============================>.] - ETA: 0s - loss: 0.6531 - accuracy: 0.7543\n",
            "Epoch 00004: val_loss improved from 0.52565 to 0.48240, saving model to model.weights.best.hdf5\n",
            "860/860 [==============================] - 8s 9ms/step - loss: 0.6533 - accuracy: 0.7543 - val_loss: 0.4824 - val_accuracy: 0.8226\n",
            "Epoch 5/10\n",
            "855/860 [============================>.] - ETA: 0s - loss: 0.6170 - accuracy: 0.7684\n",
            "Epoch 00005: val_loss improved from 0.48240 to 0.44796, saving model to model.weights.best.hdf5\n",
            "860/860 [==============================] - 8s 9ms/step - loss: 0.6174 - accuracy: 0.7685 - val_loss: 0.4480 - val_accuracy: 0.8338\n",
            "Epoch 6/10\n",
            "857/860 [============================>.] - ETA: 0s - loss: 0.5937 - accuracy: 0.7804\n",
            "Epoch 00006: val_loss improved from 0.44796 to 0.44145, saving model to model.weights.best.hdf5\n",
            "860/860 [==============================] - 8s 9ms/step - loss: 0.5937 - accuracy: 0.7804 - val_loss: 0.4415 - val_accuracy: 0.8372\n",
            "Epoch 7/10\n",
            "855/860 [============================>.] - ETA: 0s - loss: 0.5713 - accuracy: 0.7905\n",
            "Epoch 00007: val_loss improved from 0.44145 to 0.40994, saving model to model.weights.best.hdf5\n",
            "860/860 [==============================] - 8s 9ms/step - loss: 0.5716 - accuracy: 0.7905 - val_loss: 0.4099 - val_accuracy: 0.8504\n",
            "Epoch 8/10\n",
            "857/860 [============================>.] - ETA: 0s - loss: 0.5525 - accuracy: 0.7977\n",
            "Epoch 00008: val_loss improved from 0.40994 to 0.39305, saving model to model.weights.best.hdf5\n",
            "860/860 [==============================] - 8s 9ms/step - loss: 0.5521 - accuracy: 0.7979 - val_loss: 0.3930 - val_accuracy: 0.8608\n",
            "Epoch 9/10\n",
            "859/860 [============================>.] - ETA: 0s - loss: 0.5404 - accuracy: 0.8023\n",
            "Epoch 00009: val_loss did not improve from 0.39305\n",
            "860/860 [==============================] - 8s 9ms/step - loss: 0.5404 - accuracy: 0.8023 - val_loss: 0.4022 - val_accuracy: 0.8536\n",
            "Epoch 10/10\n",
            "859/860 [============================>.] - ETA: 0s - loss: 0.5216 - accuracy: 0.8107\n",
            "Epoch 00010: val_loss improved from 0.39305 to 0.37192, saving model to model.weights.best.hdf5\n",
            "860/860 [==============================] - 8s 9ms/step - loss: 0.5215 - accuracy: 0.8107 - val_loss: 0.3719 - val_accuracy: 0.8638\n"
          ]
        }
      ]
    },
    {
      "cell_type": "code",
      "metadata": {
        "id": "huiQfloTz-UZ"
      },
      "source": [
        "model7.load_weights('model.weights.best.hdf5')"
      ],
      "execution_count": null,
      "outputs": []
    },
    {
      "cell_type": "code",
      "metadata": {
        "id": "ucMDcue8X0Ym",
        "colab": {
          "base_uri": "https://localhost:8080/",
          "height": 300
        },
        "outputId": "c6445cfa-80ee-4b7e-cd61-b2e0409a0b20"
      },
      "source": [
        "plt.plot(hist7.history['accuracy'], label='accuracy')\n",
        "plt.plot(hist7.history['val_accuracy'], label = 'val_accuracy')\n",
        "plt.xlabel('Epoch')\n",
        "plt.ylabel('Accuracy')\n",
        "plt.ylim([0.5, 1])\n",
        "plt.legend(loc='lower right')\n",
        "\n",
        "test_loss, test_acc = model7.evaluate(x_test,  y_test, verbose=2)"
      ],
      "execution_count": null,
      "outputs": [
        {
          "output_type": "stream",
          "name": "stdout",
          "text": [
            "313/313 - 1s - loss: 0.4042 - accuracy: 0.8532 - 1s/epoch - 3ms/step\n"
          ]
        },
        {
          "output_type": "display_data",
          "data": {
            "image/png": "[encoded data removed]",
            "text/plain": [
              "<Figure size 432x288 with 1 Axes>"
            ]
          },
          "metadata": {
            "needs_background": "light"
          }
        }
      ]
    },
    {
      "cell_type": "code",
      "metadata": {
        "colab": {
          "base_uri": "https://localhost:8080/"
        },
        "id": "Ye1q5iv3z-Ua",
        "outputId": "b23579a8-0a83-4723-e2c9-f349c0d12e1c"
      },
      "source": [
        "score7 = model7.evaluate(x_test, y_test, verbose=0)\n",
        "\n",
        "# Print test accuracy\n",
        "print('\\n', 'Test accuracy:', score7[1])"
      ],
      "execution_count": null,
      "outputs": [
        {
          "output_type": "stream",
          "name": "stdout",
          "text": [
            "\n",
            " Test accuracy: 0.8532000184059143\n"
          ]
        }
      ]
    },
    {
      "cell_type": "markdown",
      "metadata": {
        "id": "n7HY9vw3z-Ua"
      },
      "source": [
        "## Architecture 8 - combined changes \n",
        "### 1st layer\n",
        "- Convolutional(filter = 32, kernel size = 4x4, activation=relu) \n",
        "- Pooling(kernel size =2x2)\n",
        "- Dropout(0.3)\n",
        "### 2nd layer\n",
        "- Convolutional(filter = 32, kernel size = 4x4, activaion = relu)\n",
        "- pooling(kernel size = 2x2) \n",
        "- dropout(0.3)"
      ]
    },
    {
      "cell_type": "code",
      "metadata": {
        "colab": {
          "base_uri": "https://localhost:8080/"
        },
        "id": "xjFak3zgz-Ua",
        "outputId": "9338497e-adae-46ed-dad3-7aa5d12cbed9"
      },
      "source": [
        "model8 = tf.keras.Sequential()\n",
        "\n",
        "# Must define the input shape in the first layer of the neural network\n",
        "model8.add(tf.keras.layers.Conv2D(filters=32, kernel_size=4, padding='same', activation='relu', input_shape=(28,28,1))) \n",
        "model8.add(tf.keras.layers.MaxPooling2D(pool_size=2))\n",
        "model8.add(tf.keras.layers.Dropout(0.3))\n",
        "\n",
        "model8.add(tf.keras.layers.Conv2D(filters=32, kernel_size=4, padding='same', activation='relu'))\n",
        "model8.add(tf.keras.layers.MaxPooling2D(pool_size=2))\n",
        "model8.add(tf.keras.layers.Dropout(0.3))\n",
        "\n",
        "model8.add(tf.keras.layers.Flatten())\n",
        "model8.add(tf.keras.layers.Dense(256, activation='relu'))\n",
        "model8.add(tf.keras.layers.Dropout(0.5))\n",
        "model8.add(tf.keras.layers.Dense(10, activation='softmax'))\n",
        "\n",
        "# Take a look at the model summary\n",
        "model8.summary()"
      ],
      "execution_count": null,
      "outputs": [
        {
          "output_type": "stream",
          "name": "stdout",
          "text": [
            "Model: \"sequential_8\"\n",
            "_________________________________________________________________\n",
            " Layer (type)                Output Shape              Param #   \n",
            "=================================================================\n",
            " conv2d_18 (Conv2D)          (None, 28, 28, 32)        544       \n",
            "                                                                 \n",
            " max_pooling2d_18 (MaxPoolin  (None, 14, 14, 32)       0         \n",
            " g2D)                                                            \n",
            "                                                                 \n",
            " dropout_26 (Dropout)        (None, 14, 14, 32)        0         \n",
            "                                                                 \n",
            " conv2d_19 (Conv2D)          (None, 14, 14, 32)        16416     \n",
            "                                                                 \n",
            " max_pooling2d_19 (MaxPoolin  (None, 7, 7, 32)         0         \n",
            " g2D)                                                            \n",
            "                                                                 \n",
            " dropout_27 (Dropout)        (None, 7, 7, 32)          0         \n",
            "                                                                 \n",
            " flatten_8 (Flatten)         (None, 1568)              0         \n",
            "                                                                 \n",
            " dense_16 (Dense)            (None, 256)               401664    \n",
            "                                                                 \n",
            " dropout_28 (Dropout)        (None, 256)               0         \n",
            "                                                                 \n",
            " dense_17 (Dense)            (None, 10)                2570      \n",
            "                                                                 \n",
            "=================================================================\n",
            "Total params: 421,194\n",
            "Trainable params: 421,194\n",
            "Non-trainable params: 0\n",
            "_________________________________________________________________\n"
          ]
        }
      ]
    },
    {
      "cell_type": "code",
      "metadata": {
        "id": "rqqh2n0az-Ua"
      },
      "source": [
        "model8.compile(loss='categorical_crossentropy',\n",
        "             optimizer='adam',\n",
        "             metrics=['accuracy'])"
      ],
      "execution_count": null,
      "outputs": []
    },
    {
      "cell_type": "code",
      "metadata": {
        "colab": {
          "base_uri": "https://localhost:8080/"
        },
        "id": "k55yCiOMz-Ua",
        "outputId": "89c0b058-a548-408d-b862-8d56eee48243"
      },
      "source": [
        "checkpointer = ModelCheckpoint(filepath='model.weights.best.hdf5', verbose = 1, save_best_only=True)\n",
        "hist8=model8.fit(x_train,\n",
        "         y_train,\n",
        "         batch_size=64,\n",
        "         epochs=10,\n",
        "         validation_data=(x_valid, y_valid),\n",
        "         callbacks=[checkpointer])"
      ],
      "execution_count": null,
      "outputs": [
        {
          "output_type": "stream",
          "name": "stdout",
          "text": [
            "Epoch 1/10\n",
            "860/860 [==============================] - ETA: 0s - loss: 0.5856 - accuracy: 0.7852\n",
            "Epoch 00001: val_loss improved from inf to 0.35918, saving model to model.weights.best.hdf5\n",
            "860/860 [==============================] - 9s 9ms/step - loss: 0.5856 - accuracy: 0.7852 - val_loss: 0.3592 - val_accuracy: 0.8746\n",
            "Epoch 2/10\n",
            "859/860 [============================>.] - ETA: 0s - loss: 0.3868 - accuracy: 0.8596\n",
            "Epoch 00002: val_loss improved from 0.35918 to 0.29494, saving model to model.weights.best.hdf5\n",
            "860/860 [==============================] - 8s 9ms/step - loss: 0.3868 - accuracy: 0.8596 - val_loss: 0.2949 - val_accuracy: 0.8944\n",
            "Epoch 3/10\n",
            "855/860 [============================>.] - ETA: 0s - loss: 0.3397 - accuracy: 0.8765\n",
            "Epoch 00003: val_loss improved from 0.29494 to 0.26368, saving model to model.weights.best.hdf5\n",
            "860/860 [==============================] - 7s 9ms/step - loss: 0.3395 - accuracy: 0.8766 - val_loss: 0.2637 - val_accuracy: 0.9038\n",
            "Epoch 4/10\n",
            "855/860 [============================>.] - ETA: 0s - loss: 0.3088 - accuracy: 0.8864\n",
            "Epoch 00004: val_loss improved from 0.26368 to 0.25141, saving model to model.weights.best.hdf5\n",
            "860/860 [==============================] - 7s 9ms/step - loss: 0.3089 - accuracy: 0.8864 - val_loss: 0.2514 - val_accuracy: 0.9066\n",
            "Epoch 5/10\n",
            "858/860 [============================>.] - ETA: 0s - loss: 0.2933 - accuracy: 0.8925\n",
            "Epoch 00005: val_loss improved from 0.25141 to 0.23986, saving model to model.weights.best.hdf5\n",
            "860/860 [==============================] - 8s 9ms/step - loss: 0.2932 - accuracy: 0.8926 - val_loss: 0.2399 - val_accuracy: 0.9086\n",
            "Epoch 6/10\n",
            "859/860 [============================>.] - ETA: 0s - loss: 0.2761 - accuracy: 0.8991\n",
            "Epoch 00006: val_loss improved from 0.23986 to 0.22586, saving model to model.weights.best.hdf5\n",
            "860/860 [==============================] - 7s 9ms/step - loss: 0.2760 - accuracy: 0.8991 - val_loss: 0.2259 - val_accuracy: 0.9160\n",
            "Epoch 7/10\n",
            "857/860 [============================>.] - ETA: 0s - loss: 0.2650 - accuracy: 0.9026\n",
            "Epoch 00007: val_loss improved from 0.22586 to 0.22167, saving model to model.weights.best.hdf5\n",
            "860/860 [==============================] - 8s 9ms/step - loss: 0.2648 - accuracy: 0.9027 - val_loss: 0.2217 - val_accuracy: 0.9214\n",
            "Epoch 8/10\n",
            "857/860 [============================>.] - ETA: 0s - loss: 0.2547 - accuracy: 0.9057\n",
            "Epoch 00008: val_loss did not improve from 0.22167\n",
            "860/860 [==============================] - 7s 9ms/step - loss: 0.2547 - accuracy: 0.9057 - val_loss: 0.2220 - val_accuracy: 0.9196\n",
            "Epoch 9/10\n",
            "854/860 [============================>.] - ETA: 0s - loss: 0.2529 - accuracy: 0.9056\n",
            "Epoch 00009: val_loss improved from 0.22167 to 0.21206, saving model to model.weights.best.hdf5\n",
            "860/860 [==============================] - 8s 9ms/step - loss: 0.2530 - accuracy: 0.9055 - val_loss: 0.2121 - val_accuracy: 0.9214\n",
            "Epoch 10/10\n",
            "858/860 [============================>.] - ETA: 0s - loss: 0.2418 - accuracy: 0.9098\n",
            "Epoch 00010: val_loss did not improve from 0.21206\n",
            "860/860 [==============================] - 7s 9ms/step - loss: 0.2417 - accuracy: 0.9098 - val_loss: 0.2223 - val_accuracy: 0.9188\n"
          ]
        }
      ]
    },
    {
      "cell_type": "code",
      "metadata": {
        "id": "3AfU_8ZOz-Ub"
      },
      "source": [
        "model8.load_weights('model.weights.best.hdf5')"
      ],
      "execution_count": null,
      "outputs": []
    },
    {
      "cell_type": "code",
      "metadata": {
        "id": "dD6LGHqPX6eW",
        "colab": {
          "base_uri": "https://localhost:8080/",
          "height": 300
        },
        "outputId": "dcabd8ff-825c-4408-ad06-dbc36fa90cb8"
      },
      "source": [
        "plt.plot(hist8.history['accuracy'], label='accuracy')\n",
        "plt.plot(hist8.history['val_accuracy'], label = 'val_accuracy')\n",
        "plt.xlabel('Epoch')\n",
        "plt.ylabel('Accuracy')\n",
        "plt.ylim([0.5, 1])\n",
        "plt.legend(loc='lower right')\n",
        "\n",
        "test_loss, test_acc = model8.evaluate(x_test,  y_test, verbose=2)"
      ],
      "execution_count": null,
      "outputs": [
        {
          "output_type": "stream",
          "name": "stdout",
          "text": [
            "313/313 - 1s - loss: 0.2351 - accuracy: 0.9115 - 1s/epoch - 4ms/step\n"
          ]
        },
        {
          "output_type": "display_data",
          "data": {
            "image/png": "[encoded data removed]",
            "text/plain": [
              "<Figure size 432x288 with 1 Axes>"
            ]
          },
          "metadata": {
            "needs_background": "light"
          }
        }
      ]
    },
    {
      "cell_type": "code",
      "metadata": {
        "colab": {
          "base_uri": "https://localhost:8080/"
        },
        "id": "KphY5O3Pz-Ub",
        "outputId": "780e21be-5dd8-4897-d5a3-94910a531344"
      },
      "source": [
        "score8 = model8.evaluate(x_test, y_test, verbose=0)\n",
        "\n",
        "# Print test accuracy\n",
        "print('\\n', 'Test accuracy:', score8[1])"
      ],
      "execution_count": null,
      "outputs": [
        {
          "output_type": "stream",
          "name": "stdout",
          "text": [
            "\n",
            " Test accuracy: 0.9114999771118164\n"
          ]
        }
      ]
    },
    {
      "cell_type": "markdown",
      "metadata": {
        "id": "ga-zIGPAz-Ub"
      },
      "source": [
        "## Architecture 9 - Combined changes \n",
        "### 1st Layer \n",
        "- Convolutional(filters = 32, kernel size= 5, activation = relu) \n",
        "- pooling( kernel size = 2)\n",
        "- dropout =(0.2)\n",
        "### 2nd Layer\n",
        "- convolutional(filters = 32, kernel size = 5, activation = relu)\n",
        "- pooling( kernel size = 2)\n",
        "- dropout(0.3)"
      ]
    },
    {
      "cell_type": "code",
      "metadata": {
        "colab": {
          "base_uri": "https://localhost:8080/"
        },
        "id": "Jt_0-jV7z-Ub",
        "outputId": "875e48e5-393d-4957-b550-996d2b2f4811"
      },
      "source": [
        "model9 = tf.keras.Sequential()\n",
        "\n",
        "# Must define the input shape in the first layer of the neural network\n",
        "model9.add(tf.keras.layers.Conv2D(filters=32, kernel_size=5, padding='same', activation='relu', input_shape=(28,28,1))) \n",
        "model9.add(tf.keras.layers.MaxPooling2D(pool_size=2))\n",
        "model9.add(tf.keras.layers.Dropout(0.2))\n",
        "\n",
        "model9.add(tf.keras.layers.Conv2D(filters=32, kernel_size=5, padding='same', activation='relu'))\n",
        "model9.add(tf.keras.layers.MaxPooling2D(pool_size=2))\n",
        "model9.add(tf.keras.layers.Dropout(0.3))\n",
        "\n",
        "model9.add(tf.keras.layers.Flatten())\n",
        "model9.add(tf.keras.layers.Dense(256, activation='relu'))\n",
        "model9.add(tf.keras.layers.Dropout(0.5))\n",
        "model9.add(tf.keras.layers.Dense(10, activation='softmax'))\n",
        "\n",
        "# Take a look at the model summary\n",
        "model9.summary()"
      ],
      "execution_count": null,
      "outputs": [
        {
          "output_type": "stream",
          "name": "stdout",
          "text": [
            "Model: \"sequential_9\"\n",
            "_________________________________________________________________\n",
            " Layer (type)                Output Shape              Param #   \n",
            "=================================================================\n",
            " conv2d_20 (Conv2D)          (None, 28, 28, 32)        832       \n",
            "                                                                 \n",
            " max_pooling2d_20 (MaxPoolin  (None, 14, 14, 32)       0         \n",
            " g2D)                                                            \n",
            "                                                                 \n",
            " dropout_29 (Dropout)        (None, 14, 14, 32)        0         \n",
            "                                                                 \n",
            " conv2d_21 (Conv2D)          (None, 14, 14, 32)        25632     \n",
            "                                                                 \n",
            " max_pooling2d_21 (MaxPoolin  (None, 7, 7, 32)         0         \n",
            " g2D)                                                            \n",
            "                                                                 \n",
            " dropout_30 (Dropout)        (None, 7, 7, 32)          0         \n",
            "                                                                 \n",
            " flatten_9 (Flatten)         (None, 1568)              0         \n",
            "                                                                 \n",
            " dense_18 (Dense)            (None, 256)               401664    \n",
            "                                                                 \n",
            " dropout_31 (Dropout)        (None, 256)               0         \n",
            "                                                                 \n",
            " dense_19 (Dense)            (None, 10)                2570      \n",
            "                                                                 \n",
            "=================================================================\n",
            "Total params: 430,698\n",
            "Trainable params: 430,698\n",
            "Non-trainable params: 0\n",
            "_________________________________________________________________\n"
          ]
        }
      ]
    },
    {
      "cell_type": "code",
      "metadata": {
        "id": "zZJCqeCmz-Ub"
      },
      "source": [
        "model9.compile(loss='categorical_crossentropy',\n",
        "             optimizer='adam',\n",
        "             metrics=['accuracy'])"
      ],
      "execution_count": null,
      "outputs": []
    },
    {
      "cell_type": "code",
      "metadata": {
        "colab": {
          "base_uri": "https://localhost:8080/"
        },
        "id": "mmwjiKJbz-Ub",
        "outputId": "ceb10dbe-9be4-485d-ec0d-750f2e11d67b"
      },
      "source": [
        "checkpointer = ModelCheckpoint(filepath='model.weights.best.hdf5', verbose = 1, save_best_only=True)\n",
        "hist9=model9.fit(x_train,\n",
        "         y_train,\n",
        "         batch_size=64,\n",
        "         epochs=10,\n",
        "         validation_data=(x_valid, y_valid),\n",
        "         callbacks=[checkpointer])"
      ],
      "execution_count": null,
      "outputs": [
        {
          "output_type": "stream",
          "name": "stdout",
          "text": [
            "Epoch 1/10\n",
            "860/860 [==============================] - ETA: 0s - loss: 0.5614 - accuracy: 0.7964\n",
            "Epoch 00001: val_loss improved from inf to 0.33372, saving model to model.weights.best.hdf5\n",
            "860/860 [==============================] - 9s 10ms/step - loss: 0.5614 - accuracy: 0.7964 - val_loss: 0.3337 - val_accuracy: 0.8784\n",
            "Epoch 2/10\n",
            "860/860 [==============================] - ETA: 0s - loss: 0.3693 - accuracy: 0.8682\n",
            "Epoch 00002: val_loss improved from 0.33372 to 0.28014, saving model to model.weights.best.hdf5\n",
            "860/860 [==============================] - 8s 9ms/step - loss: 0.3693 - accuracy: 0.8682 - val_loss: 0.2801 - val_accuracy: 0.8974\n",
            "Epoch 3/10\n",
            "856/860 [============================>.] - ETA: 0s - loss: 0.3255 - accuracy: 0.8809\n",
            "Epoch 00003: val_loss improved from 0.28014 to 0.25803, saving model to model.weights.best.hdf5\n",
            "860/860 [==============================] - 7s 9ms/step - loss: 0.3252 - accuracy: 0.8810 - val_loss: 0.2580 - val_accuracy: 0.9030\n",
            "Epoch 4/10\n",
            "856/860 [============================>.] - ETA: 0s - loss: 0.2978 - accuracy: 0.8900\n",
            "Epoch 00004: val_loss improved from 0.25803 to 0.25315, saving model to model.weights.best.hdf5\n",
            "860/860 [==============================] - 7s 9ms/step - loss: 0.2979 - accuracy: 0.8900 - val_loss: 0.2531 - val_accuracy: 0.9068\n",
            "Epoch 5/10\n",
            "855/860 [============================>.] - ETA: 0s - loss: 0.2797 - accuracy: 0.8968\n",
            "Epoch 00005: val_loss improved from 0.25315 to 0.23268, saving model to model.weights.best.hdf5\n",
            "860/860 [==============================] - 8s 9ms/step - loss: 0.2797 - accuracy: 0.8968 - val_loss: 0.2327 - val_accuracy: 0.9128\n",
            "Epoch 6/10\n",
            "859/860 [============================>.] - ETA: 0s - loss: 0.2690 - accuracy: 0.9009\n",
            "Epoch 00006: val_loss improved from 0.23268 to 0.22721, saving model to model.weights.best.hdf5\n",
            "860/860 [==============================] - 7s 9ms/step - loss: 0.2691 - accuracy: 0.9009 - val_loss: 0.2272 - val_accuracy: 0.9134\n",
            "Epoch 7/10\n",
            "856/860 [============================>.] - ETA: 0s - loss: 0.2552 - accuracy: 0.9058\n",
            "Epoch 00007: val_loss improved from 0.22721 to 0.22605, saving model to model.weights.best.hdf5\n",
            "860/860 [==============================] - 7s 9ms/step - loss: 0.2553 - accuracy: 0.9058 - val_loss: 0.2260 - val_accuracy: 0.9170\n",
            "Epoch 8/10\n",
            "855/860 [============================>.] - ETA: 0s - loss: 0.2474 - accuracy: 0.9077\n",
            "Epoch 00008: val_loss improved from 0.22605 to 0.22604, saving model to model.weights.best.hdf5\n",
            "860/860 [==============================] - 8s 9ms/step - loss: 0.2474 - accuracy: 0.9077 - val_loss: 0.2260 - val_accuracy: 0.9152\n",
            "Epoch 9/10\n",
            "858/860 [============================>.] - ETA: 0s - loss: 0.2396 - accuracy: 0.9107\n",
            "Epoch 00009: val_loss improved from 0.22604 to 0.21282, saving model to model.weights.best.hdf5\n",
            "860/860 [==============================] - 8s 9ms/step - loss: 0.2398 - accuracy: 0.9106 - val_loss: 0.2128 - val_accuracy: 0.9218\n",
            "Epoch 10/10\n",
            "857/860 [============================>.] - ETA: 0s - loss: 0.2320 - accuracy: 0.9139\n",
            "Epoch 00010: val_loss did not improve from 0.21282\n",
            "860/860 [==============================] - 8s 9ms/step - loss: 0.2318 - accuracy: 0.9139 - val_loss: 0.2174 - val_accuracy: 0.9196\n"
          ]
        }
      ]
    },
    {
      "cell_type": "code",
      "metadata": {
        "id": "zibIHQSVz-Uc"
      },
      "source": [
        "model9.load_weights('model.weights.best.hdf5')"
      ],
      "execution_count": null,
      "outputs": []
    },
    {
      "cell_type": "code",
      "metadata": {
        "id": "Kl9u2WuBX_pG",
        "colab": {
          "base_uri": "https://localhost:8080/",
          "height": 300
        },
        "outputId": "e10b26d2-0528-4b2f-9c46-aa9730dca22f"
      },
      "source": [
        "plt.plot(hist9.history['accuracy'], label='accuracy')\n",
        "plt.plot(hist9.history['val_accuracy'], label = 'val_accuracy')\n",
        "plt.xlabel('Epoch')\n",
        "plt.ylabel('Accuracy')\n",
        "plt.ylim([0.5, 1])\n",
        "plt.legend(loc='lower right')\n",
        "\n",
        "test_loss, test_acc = model9.evaluate(x_test,  y_test, verbose=2)"
      ],
      "execution_count": null,
      "outputs": [
        {
          "output_type": "stream",
          "name": "stdout",
          "text": [
            "313/313 - 1s - loss: 0.2361 - accuracy: 0.9128 - 1s/epoch - 4ms/step\n"
          ]
        },
        {
          "output_type": "display_data",
          "data": {
            "image/png": "[encoded data removed]",
            "text/plain": [
              "<Figure size 432x288 with 1 Axes>"
            ]
          },
          "metadata": {
            "needs_background": "light"
          }
        }
      ]
    },
    {
      "cell_type": "code",
      "metadata": {
        "colab": {
          "base_uri": "https://localhost:8080/"
        },
        "id": "UJHlWL7hz-Uc",
        "outputId": "f1fd7319-8341-4e54-c940-d29d3246ad09"
      },
      "source": [
        "score9 = model9.evaluate(x_test, y_test, verbose=0)\n",
        "\n",
        "# Print test accuracy\n",
        "print('\\n', 'Test accuracy:', score9[1])"
      ],
      "execution_count": null,
      "outputs": [
        {
          "output_type": "stream",
          "name": "stdout",
          "text": [
            "\n",
            " Test accuracy: 0.9128000140190125\n"
          ]
        }
      ]
    },
    {
      "cell_type": "markdown",
      "metadata": {
        "id": "hcLuVsO8z-Uc"
      },
      "source": [
        "## Architecture 10 - Combined changes \n",
        "### 1st layer \n",
        "- convolutional( filter = 64, kernel size = 5x5, activation = relu)\n",
        "- pooling( kernel size = 3x3)\n",
        "- dropot(0.4)\n",
        "### 2nd Layer\n",
        "- convolutional( filter = 64, kernel size = 5x5, activation = relu) \n",
        "- pooling (kernel size = 3x3)\n",
        "- dropout(0.3)"
      ]
    },
    {
      "cell_type": "code",
      "metadata": {
        "colab": {
          "base_uri": "https://localhost:8080/"
        },
        "id": "XVxE9-JUz-Uc",
        "outputId": "8d344465-c2d7-4ed8-d2be-85bdea68a4b3"
      },
      "source": [
        "model10 = tf.keras.Sequential()\n",
        "\n",
        "# Must define the input shape in the first layer of the neural network\n",
        "model10.add(tf.keras.layers.Conv2D(filters=64, kernel_size=5, padding='same', activation='relu', input_shape=(28,28,1))) \n",
        "model10.add(tf.keras.layers.MaxPooling2D(pool_size=3))\n",
        "model10.add(tf.keras.layers.Dropout(0.4))\n",
        "\n",
        "model10.add(tf.keras.layers.Conv2D(filters=64, kernel_size=5, padding='same', activation='relu'))\n",
        "model10.add(tf.keras.layers.MaxPooling2D(pool_size=3))\n",
        "model10.add(tf.keras.layers.Dropout(0.3))\n",
        "\n",
        "model10.add(tf.keras.layers.Flatten())\n",
        "model10.add(tf.keras.layers.Dense(256, activation='relu'))\n",
        "model10.add(tf.keras.layers.Dropout(0.5))\n",
        "model10.add(tf.keras.layers.Dense(10, activation='softmax'))\n",
        "\n",
        "# Take a look at the model summary\n",
        "model10.summary()"
      ],
      "execution_count": null,
      "outputs": [
        {
          "output_type": "stream",
          "name": "stdout",
          "text": [
            "Model: \"sequential_10\"\n",
            "_________________________________________________________________\n",
            " Layer (type)                Output Shape              Param #   \n",
            "=================================================================\n",
            " conv2d_22 (Conv2D)          (None, 28, 28, 64)        1664      \n",
            "                                                                 \n",
            " max_pooling2d_22 (MaxPoolin  (None, 9, 9, 64)         0         \n",
            " g2D)                                                            \n",
            "                                                                 \n",
            " dropout_32 (Dropout)        (None, 9, 9, 64)          0         \n",
            "                                                                 \n",
            " conv2d_23 (Conv2D)          (None, 9, 9, 64)          102464    \n",
            "                                                                 \n",
            " max_pooling2d_23 (MaxPoolin  (None, 3, 3, 64)         0         \n",
            " g2D)                                                            \n",
            "                                                                 \n",
            " dropout_33 (Dropout)        (None, 3, 3, 64)          0         \n",
            "                                                                 \n",
            " flatten_10 (Flatten)        (None, 576)               0         \n",
            "                                                                 \n",
            " dense_20 (Dense)            (None, 256)               147712    \n",
            "                                                                 \n",
            " dropout_34 (Dropout)        (None, 256)               0         \n",
            "                                                                 \n",
            " dense_21 (Dense)            (None, 10)                2570      \n",
            "                                                                 \n",
            "=================================================================\n",
            "Total params: 254,410\n",
            "Trainable params: 254,410\n",
            "Non-trainable params: 0\n",
            "_________________________________________________________________\n"
          ]
        }
      ]
    },
    {
      "cell_type": "code",
      "metadata": {
        "id": "59l8JvOZz-Uc"
      },
      "source": [
        "model10.compile(loss='categorical_crossentropy',\n",
        "             optimizer='adam',\n",
        "             metrics=['accuracy'])"
      ],
      "execution_count": null,
      "outputs": []
    },
    {
      "cell_type": "code",
      "metadata": {
        "scrolled": true,
        "colab": {
          "base_uri": "https://localhost:8080/"
        },
        "id": "CJ3KVgbPz-Ud",
        "outputId": "be946b14-e7fb-48b0-862c-798d3d6c8a18"
      },
      "source": [
        "checkpointer = ModelCheckpoint(filepath='model.weights.best.hdf5', verbose = 1, save_best_only=True)\n",
        "hist10=model10.fit(x_train,\n",
        "         y_train,\n",
        "         batch_size=64,\n",
        "         epochs=10,\n",
        "         validation_data=(x_valid, y_valid),\n",
        "         callbacks=[checkpointer])"
      ],
      "execution_count": null,
      "outputs": [
        {
          "output_type": "stream",
          "name": "stdout",
          "text": [
            "Epoch 1/10\n",
            "860/860 [==============================] - ETA: 0s - loss: 0.6420 - accuracy: 0.7635\n",
            "Epoch 00001: val_loss improved from inf to 0.36469, saving model to model.weights.best.hdf5\n",
            "860/860 [==============================] - 9s 10ms/step - loss: 0.6420 - accuracy: 0.7635 - val_loss: 0.3647 - val_accuracy: 0.8746\n",
            "Epoch 2/10\n",
            "858/860 [============================>.] - ETA: 0s - loss: 0.4055 - accuracy: 0.8531\n",
            "Epoch 00002: val_loss improved from 0.36469 to 0.33895, saving model to model.weights.best.hdf5\n",
            "860/860 [==============================] - 7s 9ms/step - loss: 0.4055 - accuracy: 0.8530 - val_loss: 0.3390 - val_accuracy: 0.8770\n",
            "Epoch 3/10\n",
            "860/860 [==============================] - ETA: 0s - loss: 0.3584 - accuracy: 0.8708\n",
            "Epoch 00003: val_loss improved from 0.33895 to 0.26960, saving model to model.weights.best.hdf5\n",
            "860/860 [==============================] - 7s 9ms/step - loss: 0.3584 - accuracy: 0.8708 - val_loss: 0.2696 - val_accuracy: 0.9010\n",
            "Epoch 4/10\n",
            "855/860 [============================>.] - ETA: 0s - loss: 0.3310 - accuracy: 0.8796\n",
            "Epoch 00004: val_loss did not improve from 0.26960\n",
            "860/860 [==============================] - 8s 9ms/step - loss: 0.3306 - accuracy: 0.8796 - val_loss: 0.2720 - val_accuracy: 0.8940\n",
            "Epoch 5/10\n",
            "857/860 [============================>.] - ETA: 0s - loss: 0.3123 - accuracy: 0.8854\n",
            "Epoch 00005: val_loss improved from 0.26960 to 0.25612, saving model to model.weights.best.hdf5\n",
            "860/860 [==============================] - 7s 9ms/step - loss: 0.3125 - accuracy: 0.8853 - val_loss: 0.2561 - val_accuracy: 0.9050\n",
            "Epoch 6/10\n",
            "856/860 [============================>.] - ETA: 0s - loss: 0.2998 - accuracy: 0.8885\n",
            "Epoch 00006: val_loss improved from 0.25612 to 0.24776, saving model to model.weights.best.hdf5\n",
            "860/860 [==============================] - 8s 9ms/step - loss: 0.2996 - accuracy: 0.8886 - val_loss: 0.2478 - val_accuracy: 0.9056\n",
            "Epoch 7/10\n",
            "855/860 [============================>.] - ETA: 0s - loss: 0.2865 - accuracy: 0.8935\n",
            "Epoch 00007: val_loss improved from 0.24776 to 0.23131, saving model to model.weights.best.hdf5\n",
            "860/860 [==============================] - 7s 9ms/step - loss: 0.2866 - accuracy: 0.8934 - val_loss: 0.2313 - val_accuracy: 0.9116\n",
            "Epoch 8/10\n",
            "859/860 [============================>.] - ETA: 0s - loss: 0.2801 - accuracy: 0.8970\n",
            "Epoch 00008: val_loss improved from 0.23131 to 0.22989, saving model to model.weights.best.hdf5\n",
            "860/860 [==============================] - 7s 8ms/step - loss: 0.2802 - accuracy: 0.8969 - val_loss: 0.2299 - val_accuracy: 0.9152\n",
            "Epoch 9/10\n",
            "857/860 [============================>.] - ETA: 0s - loss: 0.2748 - accuracy: 0.8982\n",
            "Epoch 00009: val_loss improved from 0.22989 to 0.21881, saving model to model.weights.best.hdf5\n",
            "860/860 [==============================] - 7s 9ms/step - loss: 0.2747 - accuracy: 0.8982 - val_loss: 0.2188 - val_accuracy: 0.9202\n",
            "Epoch 10/10\n",
            "855/860 [============================>.] - ETA: 0s - loss: 0.2661 - accuracy: 0.9005\n",
            "Epoch 00010: val_loss did not improve from 0.21881\n",
            "860/860 [==============================] - 7s 8ms/step - loss: 0.2659 - accuracy: 0.9007 - val_loss: 0.2190 - val_accuracy: 0.9170\n"
          ]
        }
      ]
    },
    {
      "cell_type": "code",
      "metadata": {
        "id": "uSkBR44lz-Ud"
      },
      "source": [
        "model10.load_weights('model.weights.best.hdf5')"
      ],
      "execution_count": null,
      "outputs": []
    },
    {
      "cell_type": "code",
      "metadata": {
        "id": "mxVh61l5YEa8",
        "colab": {
          "base_uri": "https://localhost:8080/",
          "height": 300
        },
        "outputId": "39c13fe2-d624-49d5-8365-51d0bd9e7cbd"
      },
      "source": [
        "plt.plot(hist10.history['accuracy'], label='accuracy')\n",
        "plt.plot(hist10.history['val_accuracy'], label = 'val_accuracy')\n",
        "plt.xlabel('Epoch')\n",
        "plt.ylabel('Accuracy')\n",
        "plt.ylim([0.5, 1])\n",
        "plt.legend(loc='lower right')\n",
        "\n",
        "test_loss, test_acc = model10.evaluate(x_test,  y_test, verbose=2)"
      ],
      "execution_count": null,
      "outputs": [
        {
          "output_type": "stream",
          "name": "stdout",
          "text": [
            "313/313 - 1s - loss: 0.2518 - accuracy: 0.9073 - 1s/epoch - 4ms/step\n"
          ]
        },
        {
          "output_type": "display_data",
          "data": {
            "image/png": "[encoded data removed]",
            "text/plain": [
              "<Figure size 432x288 with 1 Axes>"
            ]
          },
          "metadata": {
            "needs_background": "light"
          }
        }
      ]
    },
    {
      "cell_type": "code",
      "metadata": {
        "colab": {
          "base_uri": "https://localhost:8080/"
        },
        "id": "izfk3E7gz-Ud",
        "outputId": "9c21445c-7963-4cfd-afcb-03a39663cd9c"
      },
      "source": [
        "score10 = model10.evaluate(x_test, y_test, verbose=0)\n",
        "\n",
        "# Print test accuracy\n",
        "print('\\n', 'Test accuracy:', score10[1])"
      ],
      "execution_count": null,
      "outputs": [
        {
          "output_type": "stream",
          "name": "stdout",
          "text": [
            "\n",
            " Test accuracy: 0.9072999954223633\n"
          ]
        }
      ]
    },
    {
      "cell_type": "markdown",
      "metadata": {
        "id": "Z52lbrELQ8Ly"
      },
      "source": [
        "# Model 11 - Multiple Changes\n"
      ]
    },
    {
      "cell_type": "code",
      "metadata": {
        "colab": {
          "base_uri": "https://localhost:8080/"
        },
        "id": "PAM7z_8MQ5Ua",
        "outputId": "a25e053e-4126-4078-9aab-5cf34c9dc0b1"
      },
      "source": [
        "model11 = tf.keras.Sequential()\n",
        "\n",
        "# Must define the input shape in the first layer of the neural network\n",
        "model11.add(tf.keras.layers.Conv2D(filters=64, kernel_size=2, padding='same', activation='relu', input_shape=(28,28,1))) \n",
        "model11.add(tf.keras.layers.MaxPooling2D(pool_size=2))\n",
        "model11.add(tf.keras.layers.Dropout(0.4))\n",
        "\n",
        "model11.add(tf.keras.layers.Conv2D(filters=64, kernel_size=2, padding='same', activation='relu'))\n",
        "model11.add(tf.keras.layers.MaxPooling2D(pool_size=2))\n",
        "model11.add(tf.keras.layers.Dropout(0.3))\n",
        "\n",
        "model11.add(tf.keras.layers.Flatten())\n",
        "model11.add(tf.keras.layers.Dense(256, activation='relu'))\n",
        "model11.add(tf.keras.layers.Dropout(0.5))\n",
        "model11.add(tf.keras.layers.Dense(10, activation='softmax'))\n",
        "\n",
        "# Take a look at the model summary\n",
        "model11.summary()"
      ],
      "execution_count": null,
      "outputs": [
        {
          "output_type": "stream",
          "name": "stdout",
          "text": [
            "Model: \"sequential_11\"\n",
            "_________________________________________________________________\n",
            " Layer (type)                Output Shape              Param #   \n",
            "=================================================================\n",
            " conv2d_24 (Conv2D)          (None, 28, 28, 64)        320       \n",
            "                                                                 \n",
            " max_pooling2d_24 (MaxPoolin  (None, 14, 14, 64)       0         \n",
            " g2D)                                                            \n",
            "                                                                 \n",
            " dropout_35 (Dropout)        (None, 14, 14, 64)        0         \n",
            "                                                                 \n",
            " conv2d_25 (Conv2D)          (None, 14, 14, 64)        16448     \n",
            "                                                                 \n",
            " max_pooling2d_25 (MaxPoolin  (None, 7, 7, 64)         0         \n",
            " g2D)                                                            \n",
            "                                                                 \n",
            " dropout_36 (Dropout)        (None, 7, 7, 64)          0         \n",
            "                                                                 \n",
            " flatten_11 (Flatten)        (None, 3136)              0         \n",
            "                                                                 \n",
            " dense_22 (Dense)            (None, 256)               803072    \n",
            "                                                                 \n",
            " dropout_37 (Dropout)        (None, 256)               0         \n",
            "                                                                 \n",
            " dense_23 (Dense)            (None, 10)                2570      \n",
            "                                                                 \n",
            "=================================================================\n",
            "Total params: 822,410\n",
            "Trainable params: 822,410\n",
            "Non-trainable params: 0\n",
            "_________________________________________________________________\n"
          ]
        }
      ]
    },
    {
      "cell_type": "code",
      "metadata": {
        "id": "sHlRcGFDQ5Rw"
      },
      "source": [
        "model11.compile(loss='categorical_crossentropy',\n",
        "             optimizer='adam',\n",
        "             metrics=['accuracy'])"
      ],
      "execution_count": null,
      "outputs": []
    },
    {
      "cell_type": "code",
      "metadata": {
        "colab": {
          "base_uri": "https://localhost:8080/"
        },
        "id": "ti433offQ5Pi",
        "outputId": "983c0b32-36db-43e7-cb4b-414c2c39ef2f"
      },
      "source": [
        "checkpointer = ModelCheckpoint(filepath='model.weights.best.hdf5', verbose = 1, save_best_only=True)\n",
        "hist11=model11.fit(x_train,\n",
        "         y_train,\n",
        "         batch_size=64,\n",
        "         epochs=10,\n",
        "         validation_data=(x_valid, y_valid),\n",
        "         callbacks=[checkpointer])"
      ],
      "execution_count": null,
      "outputs": [
        {
          "output_type": "stream",
          "name": "stdout",
          "text": [
            "Epoch 1/10\n",
            "855/860 [============================>.] - ETA: 0s - loss: 0.5797 - accuracy: 0.7884\n",
            "Epoch 00001: val_loss improved from inf to 0.35374, saving model to model.weights.best.hdf5\n",
            "860/860 [==============================] - 10s 10ms/step - loss: 0.5787 - accuracy: 0.7886 - val_loss: 0.3537 - val_accuracy: 0.8738\n",
            "Epoch 2/10\n",
            "859/860 [============================>.] - ETA: 0s - loss: 0.3985 - accuracy: 0.8547\n",
            "Epoch 00002: val_loss improved from 0.35374 to 0.30661, saving model to model.weights.best.hdf5\n",
            "860/860 [==============================] - 9s 10ms/step - loss: 0.3984 - accuracy: 0.8546 - val_loss: 0.3066 - val_accuracy: 0.8882\n",
            "Epoch 3/10\n",
            "856/860 [============================>.] - ETA: 0s - loss: 0.3527 - accuracy: 0.8706\n",
            "Epoch 00003: val_loss improved from 0.30661 to 0.28210, saving model to model.weights.best.hdf5\n",
            "860/860 [==============================] - 9s 10ms/step - loss: 0.3527 - accuracy: 0.8706 - val_loss: 0.2821 - val_accuracy: 0.8974\n",
            "Epoch 4/10\n",
            "858/860 [============================>.] - ETA: 0s - loss: 0.3313 - accuracy: 0.8784\n",
            "Epoch 00004: val_loss improved from 0.28210 to 0.26033, saving model to model.weights.best.hdf5\n",
            "860/860 [==============================] - 9s 10ms/step - loss: 0.3310 - accuracy: 0.8786 - val_loss: 0.2603 - val_accuracy: 0.9052\n",
            "Epoch 5/10\n",
            "860/860 [==============================] - ETA: 0s - loss: 0.3076 - accuracy: 0.8860\n",
            "Epoch 00005: val_loss improved from 0.26033 to 0.25138, saving model to model.weights.best.hdf5\n",
            "860/860 [==============================] - 9s 10ms/step - loss: 0.3076 - accuracy: 0.8860 - val_loss: 0.2514 - val_accuracy: 0.9054\n",
            "Epoch 6/10\n",
            "858/860 [============================>.] - ETA: 0s - loss: 0.2960 - accuracy: 0.8917\n",
            "Epoch 00006: val_loss improved from 0.25138 to 0.24431, saving model to model.weights.best.hdf5\n",
            "860/860 [==============================] - 9s 10ms/step - loss: 0.2957 - accuracy: 0.8917 - val_loss: 0.2443 - val_accuracy: 0.9076\n",
            "Epoch 7/10\n",
            "858/860 [============================>.] - ETA: 0s - loss: 0.2797 - accuracy: 0.8980\n",
            "Epoch 00007: val_loss improved from 0.24431 to 0.22698, saving model to model.weights.best.hdf5\n",
            "860/860 [==============================] - 9s 10ms/step - loss: 0.2796 - accuracy: 0.8980 - val_loss: 0.2270 - val_accuracy: 0.9180\n",
            "Epoch 8/10\n",
            "858/860 [============================>.] - ETA: 0s - loss: 0.2671 - accuracy: 0.9014\n",
            "Epoch 00008: val_loss improved from 0.22698 to 0.22290, saving model to model.weights.best.hdf5\n",
            "860/860 [==============================] - 9s 10ms/step - loss: 0.2672 - accuracy: 0.9013 - val_loss: 0.2229 - val_accuracy: 0.9204\n",
            "Epoch 9/10\n",
            "858/860 [============================>.] - ETA: 0s - loss: 0.2600 - accuracy: 0.9047\n",
            "Epoch 00009: val_loss did not improve from 0.22290\n",
            "860/860 [==============================] - 9s 10ms/step - loss: 0.2599 - accuracy: 0.9047 - val_loss: 0.2267 - val_accuracy: 0.9164\n",
            "Epoch 10/10\n",
            "857/860 [============================>.] - ETA: 0s - loss: 0.2501 - accuracy: 0.9070\n",
            "Epoch 00010: val_loss improved from 0.22290 to 0.21591, saving model to model.weights.best.hdf5\n",
            "860/860 [==============================] - 9s 10ms/step - loss: 0.2502 - accuracy: 0.9070 - val_loss: 0.2159 - val_accuracy: 0.9232\n"
          ]
        }
      ]
    },
    {
      "cell_type": "code",
      "metadata": {
        "id": "LghgCufKQ5My"
      },
      "source": [
        "model11.load_weights('model.weights.best.hdf5')"
      ],
      "execution_count": null,
      "outputs": []
    },
    {
      "cell_type": "code",
      "metadata": {
        "colab": {
          "base_uri": "https://localhost:8080/",
          "height": 300
        },
        "id": "os2l7iRnQ5J7",
        "outputId": "b21aaac5-ed04-486b-95fc-d7ad7871543f"
      },
      "source": [
        "plt.plot(hist10.history['accuracy'], label='accuracy')\n",
        "plt.plot(hist10.history['val_accuracy'], label = 'val_accuracy')\n",
        "plt.xlabel('Epoch')\n",
        "plt.ylabel('Accuracy')\n",
        "plt.ylim([0.5, 1])\n",
        "plt.legend(loc='lower right')\n",
        "\n",
        "test_loss, test_acc = model11.evaluate(x_test,  y_test, verbose=2)"
      ],
      "execution_count": null,
      "outputs": [
        {
          "output_type": "stream",
          "name": "stdout",
          "text": [
            "313/313 - 1s - loss: 0.2362 - accuracy: 0.9148 - 1s/epoch - 4ms/step\n"
          ]
        },
        {
          "output_type": "display_data",
          "data": {
            "image/png": "[encoded data removed]",
            "text/plain": [
              "<Figure size 432x288 with 1 Axes>"
            ]
          },
          "metadata": {
            "needs_background": "light"
          }
        }
      ]
    },
    {
      "cell_type": "code",
      "metadata": {
        "colab": {
          "base_uri": "https://localhost:8080/"
        },
        "id": "s2JYIT_pQ48C",
        "outputId": "734e1965-ea4f-4488-9f30-7d6e5e2ef326"
      },
      "source": [
        "score11 = model11.evaluate(x_test, y_test, verbose=0)\n",
        "\n",
        "# Print test accuracy\n",
        "print('\\n', 'Test accuracy:', score11[1])"
      ],
      "execution_count": null,
      "outputs": [
        {
          "output_type": "stream",
          "name": "stdout",
          "text": [
            "\n",
            " Test accuracy: 0.9147999882698059\n"
          ]
        }
      ]
    },
    {
      "cell_type": "code",
      "metadata": {
        "colab": {
          "base_uri": "https://localhost:8080/"
        },
        "id": "m3AFaPDyz-Ue",
        "outputId": "47a2b54c-0a0f-48c8-8bc5-627bd3954a3c"
      },
      "source": [
        "scoreList=[score, score1,\n",
        "           score2, score3, \n",
        "           score4, score5, score6, score7, score8, score9, score10, score11]\n",
        "for x in range(0,12):\n",
        "  print('Test Prediction for model{} = {}'.format(x,scoreList[x][1]))"
      ],
      "execution_count": null,
      "outputs": [
        {
          "output_type": "stream",
          "name": "stdout",
          "text": [
            "Test Prediction for model0 = 0.9092000126838684\n",
            "Test Prediction for model1 = 0.9143999814987183\n",
            "Test Prediction for model2 = 0.9120000004768372\n",
            "Test Prediction for model3 = 0.8798999786376953\n",
            "Test Prediction for model4 = 0.8982999920845032\n",
            "Test Prediction for model5 = 0.9021000266075134\n",
            "Test Prediction for model6 = 0.9120000004768372\n",
            "Test Prediction for model7 = 0.8532000184059143\n",
            "Test Prediction for model8 = 0.9114999771118164\n",
            "Test Prediction for model9 = 0.9128000140190125\n",
            "Test Prediction for model10 = 0.9072999954223633\n",
            "Test Prediction for model11 = 0.9147999882698059\n"
          ]
        }
      ]
    },
    {
      "cell_type": "code",
      "metadata": {
        "id": "L88kHENLz-Ue",
        "colab": {
          "base_uri": "https://localhost:8080/"
        },
        "outputId": "d2644a0a-f741-4776-8a93-0aa8776a2afb"
      },
      "source": [
        "#Report the results in a table with the first column describing the architecture and the second column the predictive accuracy of the model on the data.\n",
        "from tabulate import tabulate\n",
        "\n",
        "table = [['Architecture Description', 'Architecture Predictive Accuracy %'],\n",
        "         ['Architecture0 - baseline architecture', score[1]*100],\n",
        "         ['Architecture1 - changed combination of no. of filters', score1[1]*100],\n",
        "         ['Architecture2 - changed combination of no. of filters', score2[1]*100],\n",
        "         ['Architecture3 - different combination of kernels for convolution/pooling', score3[1]*100],\n",
        "         ['Architecture4 - different combination of kernels for convolution/pooling', score4[1]*100],\n",
        "         ['Architecture5 - different dropout probabilities', score5[1]*100],\n",
        "         ['Architecture6 - different dropout probabilities ', score6[1]*100],\n",
        "         ['Architecture7 - 1 new extra layer ', score7[1]*100],\n",
        "         ['Architecture8 - combined changes', score8[1]*100],\n",
        "         ['Architecture9 - combined changes', score9[1]*100],\n",
        "         ['Architecture10 - combined changes ', score10[1]*100],\n",
        "         ['Architecture11 - Combined changes', score11[1]*100]\n",
        "         ]\n",
        "print(tabulate(table, headers='firstrow', tablefmt='fancy_grid'))"
      ],
      "execution_count": null,
      "outputs": [
        {
          "output_type": "stream",
          "name": "stdout",
          "text": [
            "╒══════════════════════════════════════════════════════════════════════════╤══════════════════════════════════════╕\n",
            "│ Architecture Description                                                 │   Architecture Predictive Accuracy % │\n",
            "╞══════════════════════════════════════════════════════════════════════════╪══════════════════════════════════════╡\n",
            "│ Architecture0 - baseline architecture                                    │                                90.92 │\n",
            "├──────────────────────────────────────────────────────────────────────────┼──────────────────────────────────────┤\n",
            "│ Architecture1 - changed combination of no. of filters                    │                                91.44 │\n",
            "├──────────────────────────────────────────────────────────────────────────┼──────────────────────────────────────┤\n",
            "│ Architecture2 - changed combination of no. of filters                    │                                91.2  │\n",
            "├──────────────────────────────────────────────────────────────────────────┼──────────────────────────────────────┤\n",
            "│ Architecture3 - different combination of kernels for convolution/pooling │                                87.99 │\n",
            "├──────────────────────────────────────────────────────────────────────────┼──────────────────────────────────────┤\n",
            "│ Architecture4 - different combination of kernels for convolution/pooling │                                89.83 │\n",
            "├──────────────────────────────────────────────────────────────────────────┼──────────────────────────────────────┤\n",
            "│ Architecture5 - different dropout probabilities                          │                                90.21 │\n",
            "├──────────────────────────────────────────────────────────────────────────┼──────────────────────────────────────┤\n",
            "│ Architecture6 - different dropout probabilities                          │                                91.2  │\n",
            "├──────────────────────────────────────────────────────────────────────────┼──────────────────────────────────────┤\n",
            "│ Architecture7 - 1 new extra layer                                        │                                85.32 │\n",
            "├──────────────────────────────────────────────────────────────────────────┼──────────────────────────────────────┤\n",
            "│ Architecture8 - combined changes                                         │                                91.15 │\n",
            "├──────────────────────────────────────────────────────────────────────────┼──────────────────────────────────────┤\n",
            "│ Architecture9 - combined changes                                         │                                91.28 │\n",
            "├──────────────────────────────────────────────────────────────────────────┼──────────────────────────────────────┤\n",
            "│ Architecture10 - combined changes                                        │                                90.73 │\n",
            "├──────────────────────────────────────────────────────────────────────────┼──────────────────────────────────────┤\n",
            "│ Architecture11 - Combined changes                                        │                                91.48 │\n",
            "╘══════════════════════════════════════════════════════════════════════════╧══════════════════════════════════════╛\n"
          ]
        }
      ]
    },
    {
      "cell_type": "code",
      "metadata": {
        "id": "TXUVVOCIz-Ue"
      },
      "source": [
        "# Describe how the changes to architecture influence the change in accuracy, if there is any significant change. Specifically, describe:\n",
        "\n",
        "# impact of number of filters\n",
        "# impact of kernel size\n",
        "# impact of dropout probability\n",
        "# impact of number of layers\n",
        "# impact of combining multiple changes."
      ],
      "execution_count": null,
      "outputs": []
    },
    {
      "cell_type": "markdown",
      "metadata": {
        "id": "4h6xYUnGbUXI"
      },
      "source": [
        "# **Impact of Number of Filters**\n",
        "\n",
        "By looking at architecture 1 and arcitecture 2 where we change the number of filters, we see small change in the predictive accuracy. IN architecture 1, we change the first layer convolutional filter from 32 to 128 and the second layer convolutional filter changed from 32 to 64. We can see this increases the predictive accuracy by 0.52%. \n",
        "\n",
        "In architecture 2, we change convolutional filter in layer 1 and layer 2 from 32 and 64. This time by increasing both convolutional filters we see an increase in predictive accuracy of a value of 0.28%. Between architecture 1 and 2, there is a predictuve accuracy difference of 0.24%. What is apparent in this result is that if the convolutional filter is larger the predictive accuracy is greater. \n",
        "\n",
        "# **Impact of Kernel Size** \n",
        "By looking at architecture 3 and 4, where we change the kernel size for convolutional and pooling in each layer, we can see this has a greater effect on the prediction accuracy than changing the filter and, in fact, it decreases the performance of the prediction accuracy. \n",
        "\n",
        "In architecture 3, we change the convolutional kernel size in both layers from 2x2 to 5x5 and change the pooling kernel size to 5x5. This decreases the predictive accuracy of the model by 2.93%. \n",
        "\n",
        "In acrhitecture 4, we change the convolutional kernel size in both layers from 2x2 to 3x3 and similarly, we chage the pooling kernel size form 2x2 to 3x3 in both layers. This decrease the predictive accuracy of the model by 1.09%. \n",
        "\n",
        "Between architecture 3 and 4, there is a prediction accuracy difference of 1.84%, which is greater than the impact of number of filters. \n",
        "\n",
        "#**Impact of Dropout Probability**\n",
        "By looking at architecture 5 and 6, where we change the dropout probability in each layer, this shows an increase and decrease in prediction accuracy. \n",
        "\n",
        "In architecture 5, we increase the dropout probability in the first layer from 0.3 to 0.4 and change the second layer dropout probability from 0.3 to 0.4. This decreases the prediction accuracy by 0.71%. \n",
        "\n",
        "In architectire 6, we do the opposite. This time we decrease the dropout probability of the first amd second layer from 0.3 to 0.25. This increases the performance of the prediction accuracy, with a decrease of 0.28% from architecture 0. \n",
        "\n",
        "Architecture6 has a better prediction performance by 0.99%, the smaller dropout probability tends to yield better results but only marginally from our results. If we further increase and decrease the dropout probabilites will this yield a larger discrepency between the two architectures?\n",
        "\n",
        "#**Impact of number of layers**\n",
        "In architecture 7, where we add 2 more layers to the model which has the same convolutional, pooling and dropout probability parameter values to layers 1 and 2. We see the biggest drop in prediction performance with a decrease of 5.6% between architecture 7 and architecture 0. By adding a third and fourth layer, this decreases prediction performance but, however, over more epochs and training the exta layer may show better prediction performance. \n",
        "\n",
        "#**Impact of combining multiple changes**\n",
        "By changing multiple parameter values in architectures 8, 9, 10 and 11 we see a marginal increase in prediction accuracy from 3 out of the 4 architectures in comparison to architecture 0, our baseline model. Architecture 11 has the best performance with an increase of 0.56% and architecture 10 has the worst performance of the 4 architectures with a decrease of 0.19% in prediction accuracy. Both models have the same number of filters in both layers so the difference in these models is seen the the kernel size in both layers and dropout probability. Architecture11 has smaller kernel sizes in both layes and also has a smaller dropout probability than architecture 10 in layer 1 which may be the reason for the greater prediction accuracy. "
      ]
    },
    {
      "cell_type": "code",
      "metadata": {
        "id": "9AegdZPYz-Ug"
      },
      "source": [
        ""
      ],
      "execution_count": null,
      "outputs": []
    },
    {
      "cell_type": "markdown",
      "metadata": {
        "id": "iQu68mYmkrS0"
      },
      "source": [
        "#**Task 2: TensorFlow coding of model**\n",
        "The second main task is to rewrite the high-level Keras code for the model using TensorFlow. The necessary code fragments are noted below. Please fill in the outstanding code and replace the Keras model with your TensorFlow model. Then compile the code to run the basic model configuration (baseline model)."
      ]
    },
    {
      "cell_type": "code",
      "metadata": {
        "id": "n7Pr5WsFJTix"
      },
      "source": [
        "import tensorflow as tf\n",
        "def cnn_model():\n",
        "  #def cnn_model(features, labels, mode) is more complex than is needed for this assignment    #Reshapinng the input\n",
        "  return tf.reshape(x_train, [-1, 28, 28, 1])\n",
        "    \n",
        "# TO DO: WRITE A FUNCTION TO INPUT A CONVOLUTION LAYER,\n",
        "#   denoting inputs=input_layer,filters, kernel_size, padding=\"same\",\n",
        "#        activation\n",
        "def conv_layer(input, f, k, p=\"same\", a=tf.nn.relu):\n",
        "  return tf.layers.conv2d(inputs = input,filter=f, kernel=k, padding=p, activation=a)\n",
        "# TO DO: WRITE A FUNCTION TO INPUT A POOLING LAYER, \n",
        "#    denoting inputs pool_size, strides\n",
        "def pooling_layer(i,p_s, st):\n",
        "  return tf.layers.max_pooling2d(inputs = i, pool_size = p_s, strides=st)\n",
        "# DEFINE THE MODEL USING THE CODE YOU JUST WROTE\n",
        "def model(c1, pl1, c2, pl2):\n",
        "     # Convolutional Layer #1 and Pooling Layer #1\n",
        "    #conv1 = tf.layers.Conv2D(filter=, kernel=, padding=\"same\", activation=,)\n",
        "    conv1 = c1\n",
        "    #pool1 = tf.layers.max_pooling2d(inputs=conv1, pool_size=[2, 2], strides=2)\n",
        "    pool1 = pl1\n",
        "    #Dropout #2\n",
        "    dropout_1 = tf.layers.dropout(inputs=pool1, rate=0.25,training=mode == tf.estimator.ModeKeys.TRAIN )\n",
        "\n",
        "    # Convolutional Layer #2 and Pooling Layer #2\n",
        "    conv2 = c2\n",
        "\n",
        "    pool2 = pl2\n",
        "    \n",
        "    \n",
        "    # Convolutional Layer #2 Pooling Layer #2   Dropout #2\n",
        "\n",
        "    dropout_2 = tf.layers.dropout(inputs=pool2, rate=0.25,training=mode == tf.estimator.ModeKeys.TRAIN )\n",
        "    # TO DO: IMPLEMENT CODE FOR THE DECISION AND OUTPUT LAYERS\n",
        "\n",
        "    flat = tf.layers.Flatten(inputs=pool2)\n",
        "    dense = tf.layers.Dense(input=flat,units=256, activation='relu')\n",
        "    dropout = tf.layers.dropout(inputs=dense,rate=0.5)\n",
        "    l = tf.layers.Dense(inputs=dropout,units=10, activation='softmax')\n",
        "    \n",
        "\n",
        " # Take a look at the model summary\n",
        "    model.summary()\n",
        "\n",
        "  #  make sure the model matches the baseline model  "
      ],
      "execution_count": 23,
      "outputs": []
    },
    {
      "cell_type": "code",
      "metadata": {
        "colab": {
          "base_uri": "https://localhost:8080/",
          "height": 235
        },
        "id": "sOKrO0bQvdMB",
        "outputId": "e33f1663-d50b-422a-9824-6f91687d6e2b"
      },
      "source": [
        "conv1 = conv_layer(cnn_model(),64, [2,2], \"same\", \"relu\")\n",
        "pool1 = pooling_layer(conv1, [2,2], 2)\n",
        "conv2 = conv_layer(pool1,32, [2,2], \"same\", \"relu\")\n",
        "pool2 = pooling_layer(conv2, [2,2], 2)\n",
        "cnn = model(conv1, pool1, conv2, pool2)\n",
        "print(cnn)"
      ],
      "execution_count": 1,
      "outputs": [
        {
          "output_type": "error",
          "ename": "NameError",
          "evalue": "ignored",
          "traceback": [
            "\u001b[0;31m---------------------------------------------------------------------------\u001b[0m",
            "\u001b[0;31mNameError\u001b[0m                                 Traceback (most recent call last)",
            "\u001b[0;32m<ipython-input-1-def9389c5958>\u001b[0m in \u001b[0;36m<module>\u001b[0;34m()\u001b[0m\n\u001b[0;32m----> 1\u001b[0;31m \u001b[0mconv1\u001b[0m \u001b[0;34m=\u001b[0m \u001b[0mconv_layer\u001b[0m\u001b[0;34m(\u001b[0m\u001b[0mcnn_model\u001b[0m\u001b[0;34m(\u001b[0m\u001b[0;34m)\u001b[0m\u001b[0;34m,\u001b[0m\u001b[0;36m64\u001b[0m\u001b[0;34m,\u001b[0m \u001b[0;34m[\u001b[0m\u001b[0;36m2\u001b[0m\u001b[0;34m,\u001b[0m\u001b[0;36m2\u001b[0m\u001b[0;34m]\u001b[0m\u001b[0;34m,\u001b[0m \u001b[0;34m\"same\"\u001b[0m\u001b[0;34m,\u001b[0m \u001b[0mtf\u001b[0m\u001b[0;34m.\u001b[0m\u001b[0mnn\u001b[0m\u001b[0;34m.\u001b[0m\u001b[0mrelu\u001b[0m\u001b[0;34m)\u001b[0m\u001b[0;34m\u001b[0m\u001b[0;34m\u001b[0m\u001b[0m\n\u001b[0m\u001b[1;32m      2\u001b[0m \u001b[0mpool1\u001b[0m \u001b[0;34m=\u001b[0m \u001b[0mpooling_layer\u001b[0m\u001b[0;34m(\u001b[0m\u001b[0mconv1\u001b[0m\u001b[0;34m,\u001b[0m \u001b[0;34m[\u001b[0m\u001b[0;36m2\u001b[0m\u001b[0;34m,\u001b[0m\u001b[0;36m2\u001b[0m\u001b[0;34m]\u001b[0m\u001b[0;34m,\u001b[0m \u001b[0;36m2\u001b[0m\u001b[0;34m)\u001b[0m\u001b[0;34m\u001b[0m\u001b[0;34m\u001b[0m\u001b[0m\n\u001b[1;32m      3\u001b[0m \u001b[0mconv2\u001b[0m \u001b[0;34m=\u001b[0m \u001b[0mconv_layer\u001b[0m\u001b[0;34m(\u001b[0m\u001b[0mpool1\u001b[0m\u001b[0;34m,\u001b[0m\u001b[0;36m32\u001b[0m\u001b[0;34m,\u001b[0m \u001b[0;34m[\u001b[0m\u001b[0;36m2\u001b[0m\u001b[0;34m,\u001b[0m\u001b[0;36m2\u001b[0m\u001b[0;34m]\u001b[0m\u001b[0;34m,\u001b[0m \u001b[0;34m\"same\"\u001b[0m\u001b[0;34m,\u001b[0m \u001b[0mtf\u001b[0m\u001b[0;34m.\u001b[0m\u001b[0mnn\u001b[0m\u001b[0;34m.\u001b[0m\u001b[0mrelu\u001b[0m\u001b[0;34m)\u001b[0m\u001b[0;34m\u001b[0m\u001b[0;34m\u001b[0m\u001b[0m\n\u001b[1;32m      4\u001b[0m \u001b[0mpool2\u001b[0m \u001b[0;34m=\u001b[0m \u001b[0mpooling_layer\u001b[0m\u001b[0;34m(\u001b[0m\u001b[0mconv2\u001b[0m\u001b[0;34m,\u001b[0m \u001b[0;34m[\u001b[0m\u001b[0;36m2\u001b[0m\u001b[0;34m,\u001b[0m\u001b[0;36m2\u001b[0m\u001b[0;34m]\u001b[0m\u001b[0;34m,\u001b[0m \u001b[0;36m2\u001b[0m\u001b[0;34m)\u001b[0m\u001b[0;34m\u001b[0m\u001b[0;34m\u001b[0m\u001b[0m\n\u001b[1;32m      5\u001b[0m \u001b[0mcnn\u001b[0m \u001b[0;34m=\u001b[0m \u001b[0mmodel\u001b[0m\u001b[0;34m(\u001b[0m\u001b[0mconv1\u001b[0m\u001b[0;34m,\u001b[0m \u001b[0mpool1\u001b[0m\u001b[0;34m,\u001b[0m \u001b[0mconv2\u001b[0m\u001b[0;34m,\u001b[0m \u001b[0mpool2\u001b[0m\u001b[0;34m)\u001b[0m\u001b[0;34m\u001b[0m\u001b[0;34m\u001b[0m\u001b[0m\n",
            "\u001b[0;31mNameError\u001b[0m: name 'conv_layer' is not defined"
          ]
        }
      ]
    }
  ]
}